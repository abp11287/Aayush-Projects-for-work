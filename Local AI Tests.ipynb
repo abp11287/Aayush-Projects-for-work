{
  "cells": [
    {
      "cell_type": "code",
      "execution_count": null,
      "metadata": {
        "colab": {
          "base_uri": "https://localhost:8080/"
        },
        "id": "rW0TCO9UnWJZ",
        "outputId": "bd649028-3da0-41cc-f4c1-7390778902fa"
      },
      "outputs": [
        {
          "name": "stdout",
          "output_type": "stream",
          "text": [
            "Defaulting to user installation because normal site-packages is not writeable\n",
            "Requirement already satisfied: transformers in c:\\users\\aiteam\\appdata\\roaming\\python\\python312\\site-packages (4.44.0)\n",
            "Collecting transformers\n",
            "  Downloading transformers-4.44.1-py3-none-any.whl.metadata (43 kB)\n",
            "Requirement already satisfied: filelock in c:\\programdata\\anaconda3\\envs\\google-colab\\lib\\site-packages (from transformers) (3.15.4)\n",
            "Requirement already satisfied: huggingface-hub<1.0,>=0.23.2 in c:\\users\\aiteam\\appdata\\roaming\\python\\python312\\site-packages (from transformers) (0.24.6)\n",
            "Requirement already satisfied: numpy>=1.17 in c:\\programdata\\anaconda3\\envs\\google-colab\\lib\\site-packages (from transformers) (1.26.4)\n",
            "Requirement already satisfied: packaging>=20.0 in c:\\programdata\\anaconda3\\envs\\google-colab\\lib\\site-packages (from transformers) (24.1)\n",
            "Requirement already satisfied: pyyaml>=5.1 in c:\\programdata\\anaconda3\\envs\\google-colab\\lib\\site-packages (from transformers) (6.0.1)\n",
            "Requirement already satisfied: regex!=2019.12.17 in c:\\programdata\\anaconda3\\envs\\google-colab\\lib\\site-packages (from transformers) (2024.7.24)\n",
            "Requirement already satisfied: requests in c:\\programdata\\anaconda3\\envs\\google-colab\\lib\\site-packages (from transformers) (2.32.3)\n",
            "Requirement already satisfied: safetensors>=0.4.1 in c:\\users\\aiteam\\appdata\\roaming\\python\\python312\\site-packages (from transformers) (0.4.4)\n",
            "Requirement already satisfied: tokenizers<0.20,>=0.19 in c:\\users\\aiteam\\appdata\\roaming\\python\\python312\\site-packages (from transformers) (0.19.1)\n",
            "Requirement already satisfied: tqdm>=4.27 in c:\\programdata\\anaconda3\\envs\\google-colab\\lib\\site-packages (from transformers) (4.66.5)\n",
            "Requirement already satisfied: fsspec>=2023.5.0 in c:\\programdata\\anaconda3\\envs\\google-colab\\lib\\site-packages (from huggingface-hub<1.0,>=0.23.2->transformers) (2024.6.1)\n",
            "Requirement already satisfied: typing-extensions>=3.7.4.3 in c:\\programdata\\anaconda3\\envs\\google-colab\\lib\\site-packages (from huggingface-hub<1.0,>=0.23.2->transformers) (4.11.0)\n",
            "Requirement already satisfied: colorama in c:\\programdata\\anaconda3\\envs\\google-colab\\lib\\site-packages (from tqdm>=4.27->transformers) (0.4.6)\n",
            "Requirement already satisfied: charset-normalizer<4,>=2 in c:\\programdata\\anaconda3\\envs\\google-colab\\lib\\site-packages (from requests->transformers) (3.3.2)\n",
            "Requirement already satisfied: idna<4,>=2.5 in c:\\programdata\\anaconda3\\envs\\google-colab\\lib\\site-packages (from requests->transformers) (3.7)\n",
            "Requirement already satisfied: urllib3<3,>=1.21.1 in c:\\programdata\\anaconda3\\envs\\google-colab\\lib\\site-packages (from requests->transformers) (2.2.2)\n",
            "Requirement already satisfied: certifi>=2017.4.17 in c:\\programdata\\anaconda3\\envs\\google-colab\\lib\\site-packages (from requests->transformers) (2024.7.4)\n",
            "Downloading transformers-4.44.1-py3-none-any.whl (9.5 MB)\n",
            "   ---------------------------------------- 0.0/9.5 MB ? eta -:--:--\n",
            "   ---------------------------------------- 0.0/9.5 MB ? eta -:--:--\n",
            "   ---------------------------------------- 0.0/9.5 MB ? eta -:--:--\n",
            "   ---------------------------------------- 0.0/9.5 MB ? eta -:--:--\n",
            "   ---------------------------------------- 0.0/9.5 MB ? eta -:--:--\n",
            "   - -------------------------------------- 0.3/9.5 MB ? eta -:--:--\n",
            "   - -------------------------------------- 0.3/9.5 MB ? eta -:--:--\n",
            "   - -------------------------------------- 0.3/9.5 MB ? eta -:--:--\n",
            "   - -------------------------------------- 0.3/9.5 MB ? eta -:--:--\n",
            "   - -------------------------------------- 0.3/9.5 MB ? eta -:--:--\n",
            "   - -------------------------------------- 0.3/9.5 MB ? eta -:--:--\n",
            "   - -------------------------------------- 0.3/9.5 MB ? eta -:--:--\n",
            "   - -------------------------------------- 0.3/9.5 MB ? eta -:--:--\n",
            "   - -------------------------------------- 0.3/9.5 MB ? eta -:--:--\n",
            "   - -------------------------------------- 0.3/9.5 MB ? eta -:--:--\n",
            "   - -------------------------------------- 0.3/9.5 MB ? eta -:--:--\n",
            "   - -------------------------------------- 0.3/9.5 MB ? eta -:--:--\n",
            "   - -------------------------------------- 0.3/9.5 MB ? eta -:--:--\n",
            "   - -------------------------------------- 0.3/9.5 MB ? eta -:--:--\n",
            "   - -------------------------------------- 0.3/9.5 MB ? eta -:--:--\n",
            "   - -------------------------------------- 0.3/9.5 MB ? eta -:--:--\n",
            "   - -------------------------------------- 0.3/9.5 MB ? eta -:--:--\n",
            "   -- ------------------------------------- 0.5/9.5 MB 71.7 kB/s eta 0:02:05\n",
            "   -- ------------------------------------- 0.5/9.5 MB 71.7 kB/s eta 0:02:05\n",
            "   -- ------------------------------------- 0.5/9.5 MB 71.7 kB/s eta 0:02:05\n",
            "   -- ------------------------------------- 0.5/9.5 MB 71.7 kB/s eta 0:02:05\n",
            "   -- ------------------------------------- 0.5/9.5 MB 71.7 kB/s eta 0:02:05\n",
            "   -- ------------------------------------- 0.5/9.5 MB 71.7 kB/s eta 0:02:05\n",
            "   -- ------------------------------------- 0.5/9.5 MB 71.7 kB/s eta 0:02:05\n",
            "   -- ------------------------------------- 0.5/9.5 MB 71.7 kB/s eta 0:02:05\n",
            "   -- ------------------------------------- 0.5/9.5 MB 71.7 kB/s eta 0:02:05\n",
            "   -- ------------------------------------- 0.5/9.5 MB 71.7 kB/s eta 0:02:05\n",
            "   -- ------------------------------------- 0.5/9.5 MB 71.7 kB/s eta 0:02:05\n",
            "   -- ------------------------------------- 0.5/9.5 MB 71.7 kB/s eta 0:02:05\n",
            "   -- ------------------------------------- 0.5/9.5 MB 71.7 kB/s eta 0:02:05\n",
            "   -- ------------------------------------- 0.5/9.5 MB 71.7 kB/s eta 0:02:05\n",
            "   -- ------------------------------------- 0.5/9.5 MB 71.7 kB/s eta 0:02:05\n",
            "   -- ------------------------------------- 0.5/9.5 MB 71.7 kB/s eta 0:02:05\n",
            "   -- ------------------------------------- 0.5/9.5 MB 71.7 kB/s eta 0:02:05\n",
            "   -- ------------------------------------- 0.5/9.5 MB 71.7 kB/s eta 0:02:05\n",
            "   -- ------------------------------------- 0.5/9.5 MB 71.7 kB/s eta 0:02:05\n",
            "   -- ------------------------------------- 0.5/9.5 MB 71.7 kB/s eta 0:02:05\n",
            "   -- ------------------------------------- 0.5/9.5 MB 71.7 kB/s eta 0:02:05\n",
            "   -- ------------------------------------- 0.5/9.5 MB 71.7 kB/s eta 0:02:05\n",
            "   -- ------------------------------------- 0.5/9.5 MB 71.7 kB/s eta 0:02:05\n",
            "   -- ------------------------------------- 0.5/9.5 MB 71.7 kB/s eta 0:02:05\n",
            "   -- ------------------------------------- 0.5/9.5 MB 71.7 kB/s eta 0:02:05\n",
            "   -- ------------------------------------- 0.5/9.5 MB 71.7 kB/s eta 0:02:05\n",
            "   -- ------------------------------------- 0.5/9.5 MB 71.7 kB/s eta 0:02:05\n",
            "   -- ------------------------------------- 0.5/9.5 MB 71.7 kB/s eta 0:02:05\n",
            "   -- ------------------------------------- 0.5/9.5 MB 71.7 kB/s eta 0:02:05\n",
            "   -- ------------------------------------- 0.5/9.5 MB 71.7 kB/s eta 0:02:05\n",
            "   -- ------------------------------------- 0.5/9.5 MB 71.7 kB/s eta 0:02:05\n",
            "   -- ------------------------------------- 0.5/9.5 MB 71.7 kB/s eta 0:02:05\n",
            "   -- ------------------------------------- 0.5/9.5 MB 71.7 kB/s eta 0:02:05\n",
            "   -- ------------------------------------- 0.5/9.5 MB 71.7 kB/s eta 0:02:05\n",
            "   -- ------------------------------------- 0.5/9.5 MB 71.7 kB/s eta 0:02:05\n",
            "   -- ------------------------------------- 0.5/9.5 MB 71.7 kB/s eta 0:02:05\n",
            "   -- ------------------------------------- 0.5/9.5 MB 71.7 kB/s eta 0:02:05\n",
            "   -- ------------------------------------- 0.5/9.5 MB 71.7 kB/s eta 0:02:05\n",
            "   -- ------------------------------------- 0.5/9.5 MB 71.7 kB/s eta 0:02:05\n",
            "   -- ------------------------------------- 0.5/9.5 MB 71.7 kB/s eta 0:02:05\n",
            "   -- ------------------------------------- 0.5/9.5 MB 71.7 kB/s eta 0:02:05\n",
            "   -- ------------------------------------- 0.5/9.5 MB 71.7 kB/s eta 0:02:05\n",
            "   -- ------------------------------------- 0.5/9.5 MB 71.7 kB/s eta 0:02:05\n",
            "   -- ------------------------------------- 0.5/9.5 MB 71.7 kB/s eta 0:02:05\n",
            "   -- ------------------------------------- 0.5/9.5 MB 71.7 kB/s eta 0:02:05\n",
            "   -- ------------------------------------- 0.5/9.5 MB 71.7 kB/s eta 0:02:05\n",
            "   -- ------------------------------------- 0.5/9.5 MB 71.7 kB/s eta 0:02:05\n",
            "   -- ------------------------------------- 0.5/9.5 MB 71.7 kB/s eta 0:02:05\n",
            "   -- ------------------------------------- 0.5/9.5 MB 71.7 kB/s eta 0:02:05\n",
            "   -- ------------------------------------- 0.5/9.5 MB 71.7 kB/s eta 0:02:05\n",
            "   -- ------------------------------------- 0.5/9.5 MB 71.7 kB/s eta 0:02:05\n",
            "   -- ------------------------------------- 0.5/9.5 MB 71.7 kB/s eta 0:02:05\n",
            "   -- ------------------------------------- 0.5/9.5 MB 71.7 kB/s eta 0:02:05\n",
            "   -- ------------------------------------- 0.5/9.5 MB 71.7 kB/s eta 0:02:05\n",
            "   -- ------------------------------------- 0.5/9.5 MB 71.7 kB/s eta 0:02:05\n",
            "   -- ------------------------------------- 0.5/9.5 MB 71.7 kB/s eta 0:02:05\n",
            "   -- ------------------------------------- 0.5/9.5 MB 71.7 kB/s eta 0:02:05\n",
            "   -- ------------------------------------- 0.5/9.5 MB 71.7 kB/s eta 0:02:05\n",
            "   -- ------------------------------------- 0.5/9.5 MB 71.7 kB/s eta 0:02:05\n",
            "   -- ------------------------------------- 0.5/9.5 MB 71.7 kB/s eta 0:02:05\n",
            "   -- ------------------------------------- 0.5/9.5 MB 71.7 kB/s eta 0:02:05\n",
            "   -- ------------------------------------- 0.5/9.5 MB 71.7 kB/s eta 0:02:05\n",
            "   -- ------------------------------------- 0.5/9.5 MB 71.7 kB/s eta 0:02:05\n",
            "   -- ------------------------------------- 0.5/9.5 MB 71.7 kB/s eta 0:02:05\n",
            "   -- ------------------------------------- 0.5/9.5 MB 71.7 kB/s eta 0:02:05\n",
            "   -- ------------------------------------- 0.5/9.5 MB 71.7 kB/s eta 0:02:05\n",
            "   -- ------------------------------------- 0.5/9.5 MB 71.7 kB/s eta 0:02:05\n",
            "   -- ------------------------------------- 0.5/9.5 MB 71.7 kB/s eta 0:02:05\n",
            "   -- ------------------------------------- 0.5/9.5 MB 71.7 kB/s eta 0:02:05\n",
            "   -- ------------------------------------- 0.5/9.5 MB 71.7 kB/s eta 0:02:05\n",
            "   -- ------------------------------------- 0.5/9.5 MB 71.7 kB/s eta 0:02:05\n",
            "   -- ------------------------------------- 0.5/9.5 MB 71.7 kB/s eta 0:02:05\n",
            "   -- ------------------------------------- 0.5/9.5 MB 71.7 kB/s eta 0:02:05\n",
            "   -- ------------------------------------- 0.5/9.5 MB 71.7 kB/s eta 0:02:05\n",
            "   -- ------------------------------------- 0.5/9.5 MB 71.7 kB/s eta 0:02:05\n",
            "   -- ------------------------------------- 0.5/9.5 MB 71.7 kB/s eta 0:02:05\n",
            "   -- ------------------------------------- 0.5/9.5 MB 71.7 kB/s eta 0:02:05\n",
            "   -- ------------------------------------- 0.5/9.5 MB 71.7 kB/s eta 0:02:05\n",
            "   -- ------------------------------------- 0.5/9.5 MB 71.7 kB/s eta 0:02:05\n",
            "   -- ------------------------------------- 0.5/9.5 MB 71.7 kB/s eta 0:02:05\n",
            "   -- ------------------------------------- 0.5/9.5 MB 71.7 kB/s eta 0:02:05\n",
            "   -- ------------------------------------- 0.5/9.5 MB 71.7 kB/s eta 0:02:05\n",
            "   -- ------------------------------------- 0.5/9.5 MB 71.7 kB/s eta 0:02:05\n",
            "   -- ------------------------------------- 0.5/9.5 MB 71.7 kB/s eta 0:02:05\n",
            "   -- ------------------------------------- 0.5/9.5 MB 71.7 kB/s eta 0:02:05\n",
            "   -- ------------------------------------- 0.5/9.5 MB 71.7 kB/s eta 0:02:05\n",
            "   -- ------------------------------------- 0.5/9.5 MB 71.7 kB/s eta 0:02:05\n",
            "   -- ------------------------------------- 0.5/9.5 MB 71.7 kB/s eta 0:02:05\n",
            "   -- ------------------------------------- 0.5/9.5 MB 71.7 kB/s eta 0:02:05\n",
            "   -- ------------------------------------- 0.5/9.5 MB 71.7 kB/s eta 0:02:05\n",
            "   -- ------------------------------------- 0.5/9.5 MB 71.7 kB/s eta 0:02:05\n",
            "   -- ------------------------------------- 0.5/9.5 MB 71.7 kB/s eta 0:02:05\n",
            "   -- ------------------------------------- 0.5/9.5 MB 71.7 kB/s eta 0:02:05\n",
            "   -- ------------------------------------- 0.5/9.5 MB 71.7 kB/s eta 0:02:05\n",
            "   -- ------------------------------------- 0.5/9.5 MB 71.7 kB/s eta 0:02:05\n",
            "   -- ------------------------------------- 0.5/9.5 MB 71.7 kB/s eta 0:02:05\n",
            "   -- ------------------------------------- 0.5/9.5 MB 71.7 kB/s eta 0:02:05\n",
            "   -- ------------------------------------- 0.5/9.5 MB 71.7 kB/s eta 0:02:05\n",
            "   -- ------------------------------------- 0.5/9.5 MB 71.7 kB/s eta 0:02:05\n",
            "   -- ------------------------------------- 0.5/9.5 MB 71.7 kB/s eta 0:02:05\n",
            "   -- ------------------------------------- 0.5/9.5 MB 71.7 kB/s eta 0:02:05\n",
            "   -- ------------------------------------- 0.5/9.5 MB 71.7 kB/s eta 0:02:05\n",
            "   -- ------------------------------------- 0.5/9.5 MB 71.7 kB/s eta 0:02:05\n",
            "   -- ------------------------------------- 0.5/9.5 MB 71.7 kB/s eta 0:02:05\n",
            "   -- ------------------------------------- 0.5/9.5 MB 71.7 kB/s eta 0:02:05\n",
            "   -- ------------------------------------- 0.5/9.5 MB 71.7 kB/s eta 0:02:05\n",
            "   -- ------------------------------------- 0.5/9.5 MB 71.7 kB/s eta 0:02:05\n",
            "   -- ------------------------------------- 0.5/9.5 MB 71.7 kB/s eta 0:02:05\n",
            "   -- ------------------------------------- 0.5/9.5 MB 71.7 kB/s eta 0:02:05\n",
            "   -- ------------------------------------- 0.5/9.5 MB 71.7 kB/s eta 0:02:05\n",
            "   -- ------------------------------------- 0.5/9.5 MB 71.7 kB/s eta 0:02:05\n",
            "   -- ------------------------------------- 0.5/9.5 MB 71.7 kB/s eta 0:02:05\n",
            "   -- ------------------------------------- 0.5/9.5 MB 71.7 kB/s eta 0:02:05\n",
            "   -- ------------------------------------- 0.5/9.5 MB 71.7 kB/s eta 0:02:05\n",
            "   -- ------------------------------------- 0.5/9.5 MB 71.7 kB/s eta 0:02:05\n",
            "   -- ------------------------------------- 0.5/9.5 MB 71.7 kB/s eta 0:02:05\n",
            "   -- ------------------------------------- 0.5/9.5 MB 71.7 kB/s eta 0:02:05\n",
            "   -- ------------------------------------- 0.5/9.5 MB 71.7 kB/s eta 0:02:05\n",
            "   -- ------------------------------------- 0.5/9.5 MB 71.7 kB/s eta 0:02:05\n",
            "   -- ------------------------------------- 0.5/9.5 MB 71.7 kB/s eta 0:02:05\n",
            "   -- ------------------------------------- 0.5/9.5 MB 71.7 kB/s eta 0:02:05\n",
            "   -- ------------------------------------- 0.5/9.5 MB 71.7 kB/s eta 0:02:05\n",
            "   -- ------------------------------------- 0.5/9.5 MB 71.7 kB/s eta 0:02:05\n",
            "   -- ------------------------------------- 0.5/9.5 MB 71.7 kB/s eta 0:02:05\n",
            "   -- ------------------------------------- 0.5/9.5 MB 71.7 kB/s eta 0:02:05\n",
            "   -- ------------------------------------- 0.5/9.5 MB 71.7 kB/s eta 0:02:05\n",
            "   -- ------------------------------------- 0.5/9.5 MB 71.7 kB/s eta 0:02:05\n",
            "   -- ------------------------------------- 0.5/9.5 MB 71.7 kB/s eta 0:02:05\n",
            "   -- ------------------------------------- 0.5/9.5 MB 71.7 kB/s eta 0:02:05\n",
            "   -- ------------------------------------- 0.5/9.5 MB 71.7 kB/s eta 0:02:05\n",
            "   -- ------------------------------------- 0.5/9.5 MB 71.7 kB/s eta 0:02:05\n",
            "   -- ------------------------------------- 0.5/9.5 MB 71.7 kB/s eta 0:02:05\n",
            "   -- ------------------------------------- 0.5/9.5 MB 71.7 kB/s eta 0:02:05\n",
            "   -- ------------------------------------- 0.5/9.5 MB 71.7 kB/s eta 0:02:05\n",
            "   -- ------------------------------------- 0.5/9.5 MB 71.7 kB/s eta 0:02:05\n",
            "   -- ------------------------------------- 0.5/9.5 MB 71.7 kB/s eta 0:02:05\n",
            "   -- ------------------------------------- 0.5/9.5 MB 71.7 kB/s eta 0:02:05\n",
            "   -- ------------------------------------- 0.5/9.5 MB 71.7 kB/s eta 0:02:05\n",
            "   -- ------------------------------------- 0.5/9.5 MB 71.7 kB/s eta 0:02:05\n"
          ]
        },
        {
          "name": "stderr",
          "output_type": "stream",
          "text": [
            "ERROR: Exception:\n",
            "Traceback (most recent call last):\n",
            "  File \"C:\\ProgramData\\anaconda3\\envs\\google-colab\\Lib\\site-packages\\pip\\_vendor\\urllib3\\response.py\", line 438, in _error_catcher\n",
            "    yield\n",
            "  File \"C:\\ProgramData\\anaconda3\\envs\\google-colab\\Lib\\site-packages\\pip\\_vendor\\urllib3\\response.py\", line 561, in read\n",
            "    data = self._fp_read(amt) if not fp_closed else b\"\"\n",
            "           ^^^^^^^^^^^^^^^^^^\n",
            "  File \"C:\\ProgramData\\anaconda3\\envs\\google-colab\\Lib\\site-packages\\pip\\_vendor\\urllib3\\response.py\", line 527, in _fp_read\n",
            "    return self._fp.read(amt) if amt is not None else self._fp.read()\n",
            "           ^^^^^^^^^^^^^^^^^^\n",
            "  File \"C:\\ProgramData\\anaconda3\\envs\\google-colab\\Lib\\site-packages\\pip\\_vendor\\cachecontrol\\filewrapper.py\", line 98, in read\n",
            "    data: bytes = self.__fp.read(amt)\n",
            "                  ^^^^^^^^^^^^^^^^^^^\n",
            "  File \"C:\\ProgramData\\anaconda3\\envs\\google-colab\\Lib\\http\\client.py\", line 479, in read\n",
            "    s = self.fp.read(amt)\n",
            "        ^^^^^^^^^^^^^^^^^\n",
            "  File \"C:\\ProgramData\\anaconda3\\envs\\google-colab\\Lib\\socket.py\", line 708, in readinto\n",
            "    return self._sock.recv_into(b)\n",
            "           ^^^^^^^^^^^^^^^^^^^^^^^\n",
            "  File \"C:\\ProgramData\\anaconda3\\envs\\google-colab\\Lib\\ssl.py\", line 1252, in recv_into\n",
            "    return self.read(nbytes, buffer)\n",
            "           ^^^^^^^^^^^^^^^^^^^^^^^^^\n",
            "  File \"C:\\ProgramData\\anaconda3\\envs\\google-colab\\Lib\\ssl.py\", line 1104, in read\n",
            "    return self._sslobj.read(len, buffer)\n",
            "           ^^^^^^^^^^^^^^^^^^^^^^^^^^^^^^\n",
            "TimeoutError: The read operation timed out\n",
            "\n",
            "During handling of the above exception, another exception occurred:\n",
            "\n",
            "Traceback (most recent call last):\n",
            "  File \"C:\\ProgramData\\anaconda3\\envs\\google-colab\\Lib\\site-packages\\pip\\_internal\\cli\\base_command.py\", line 105, in _run_wrapper\n",
            "    status = _inner_run()\n",
            "             ^^^^^^^^^^^^\n",
            "  File \"C:\\ProgramData\\anaconda3\\envs\\google-colab\\Lib\\site-packages\\pip\\_internal\\cli\\base_command.py\", line 96, in _inner_run\n",
            "    return self.run(options, args)\n",
            "           ^^^^^^^^^^^^^^^^^^^^^^^\n",
            "  File \"C:\\ProgramData\\anaconda3\\envs\\google-colab\\Lib\\site-packages\\pip\\_internal\\cli\\req_command.py\", line 67, in wrapper\n",
            "    return func(self, options, args)\n",
            "           ^^^^^^^^^^^^^^^^^^^^^^^^^\n",
            "  File \"C:\\ProgramData\\anaconda3\\envs\\google-colab\\Lib\\site-packages\\pip\\_internal\\commands\\install.py\", line 379, in run\n",
            "    requirement_set = resolver.resolve(\n",
            "                      ^^^^^^^^^^^^^^^^^\n",
            "  File \"C:\\ProgramData\\anaconda3\\envs\\google-colab\\Lib\\site-packages\\pip\\_internal\\resolution\\resolvelib\\resolver.py\", line 179, in resolve\n",
            "    self.factory.preparer.prepare_linked_requirements_more(reqs)\n",
            "  File \"C:\\ProgramData\\anaconda3\\envs\\google-colab\\Lib\\site-packages\\pip\\_internal\\operations\\prepare.py\", line 554, in prepare_linked_requirements_more\n",
            "    self._complete_partial_requirements(\n",
            "  File \"C:\\ProgramData\\anaconda3\\envs\\google-colab\\Lib\\site-packages\\pip\\_internal\\operations\\prepare.py\", line 469, in _complete_partial_requirements\n",
            "    for link, (filepath, _) in batch_download:\n",
            "  File \"C:\\ProgramData\\anaconda3\\envs\\google-colab\\Lib\\site-packages\\pip\\_internal\\network\\download.py\", line 184, in __call__\n",
            "    for chunk in chunks:\n",
            "  File \"C:\\ProgramData\\anaconda3\\envs\\google-colab\\Lib\\site-packages\\pip\\_internal\\cli\\progress_bars.py\", line 55, in _rich_progress_bar\n",
            "    for chunk in iterable:\n",
            "  File \"C:\\ProgramData\\anaconda3\\envs\\google-colab\\Lib\\site-packages\\pip\\_internal\\network\\utils.py\", line 65, in response_chunks\n",
            "    for chunk in response.raw.stream(\n",
            "  File \"C:\\ProgramData\\anaconda3\\envs\\google-colab\\Lib\\site-packages\\pip\\_vendor\\urllib3\\response.py\", line 622, in stream\n",
            "    data = self.read(amt=amt, decode_content=decode_content)\n",
            "           ^^^^^^^^^^^^^^^^^^^^^^^^^^^^^^^^^^^^^^^^^^^^^^^^^\n",
            "  File \"C:\\ProgramData\\anaconda3\\envs\\google-colab\\Lib\\site-packages\\pip\\_vendor\\urllib3\\response.py\", line 560, in read\n",
            "    with self._error_catcher():\n",
            "  File \"C:\\ProgramData\\anaconda3\\envs\\google-colab\\Lib\\contextlib.py\", line 158, in __exit__\n",
            "    self.gen.throw(value)\n",
            "  File \"C:\\ProgramData\\anaconda3\\envs\\google-colab\\Lib\\site-packages\\pip\\_vendor\\urllib3\\response.py\", line 443, in _error_catcher\n",
            "    raise ReadTimeoutError(self._pool, None, \"Read timed out.\")\n",
            "pip._vendor.urllib3.exceptions.ReadTimeoutError: HTTPSConnectionPool(host='files.pythonhosted.org', port=443): Read timed out.\n"
          ]
        },
        {
          "name": "stdout",
          "output_type": "stream",
          "text": [
            "Defaulting to user installation because normal site-packages is not writeable\n",
            "Requirement already satisfied: accelerate in c:\\users\\aiteam\\appdata\\roaming\\python\\python312\\site-packages (0.33.0)\n",
            "Requirement already satisfied: numpy<2.0.0,>=1.17 in c:\\programdata\\anaconda3\\envs\\google-colab\\lib\\site-packages (from accelerate) (1.26.4)\n",
            "Requirement already satisfied: packaging>=20.0 in c:\\programdata\\anaconda3\\envs\\google-colab\\lib\\site-packages (from accelerate) (24.1)\n",
            "Requirement already satisfied: psutil in c:\\programdata\\anaconda3\\envs\\google-colab\\lib\\site-packages (from accelerate) (5.9.0)\n",
            "Requirement already satisfied: pyyaml in c:\\programdata\\anaconda3\\envs\\google-colab\\lib\\site-packages (from accelerate) (6.0.1)\n",
            "Requirement already satisfied: torch>=1.10.0 in c:\\users\\aiteam\\appdata\\roaming\\python\\python312\\site-packages (from accelerate) (2.4.0+cu118)\n",
            "Requirement already satisfied: huggingface-hub>=0.21.0 in c:\\users\\aiteam\\appdata\\roaming\\python\\python312\\site-packages (from accelerate) (0.24.6)\n",
            "Requirement already satisfied: safetensors>=0.3.1 in c:\\users\\aiteam\\appdata\\roaming\\python\\python312\\site-packages (from accelerate) (0.4.4)\n",
            "Requirement already satisfied: filelock in c:\\programdata\\anaconda3\\envs\\google-colab\\lib\\site-packages (from huggingface-hub>=0.21.0->accelerate) (3.15.4)\n",
            "Requirement already satisfied: fsspec>=2023.5.0 in c:\\programdata\\anaconda3\\envs\\google-colab\\lib\\site-packages (from huggingface-hub>=0.21.0->accelerate) (2024.6.1)\n",
            "Requirement already satisfied: requests in c:\\programdata\\anaconda3\\envs\\google-colab\\lib\\site-packages (from huggingface-hub>=0.21.0->accelerate) (2.32.3)\n",
            "Requirement already satisfied: tqdm>=4.42.1 in c:\\programdata\\anaconda3\\envs\\google-colab\\lib\\site-packages (from huggingface-hub>=0.21.0->accelerate) (4.66.5)\n",
            "Requirement already satisfied: typing-extensions>=3.7.4.3 in c:\\programdata\\anaconda3\\envs\\google-colab\\lib\\site-packages (from huggingface-hub>=0.21.0->accelerate) (4.11.0)\n",
            "Requirement already satisfied: sympy in c:\\programdata\\anaconda3\\envs\\google-colab\\lib\\site-packages (from torch>=1.10.0->accelerate) (1.13.2)\n",
            "Requirement already satisfied: networkx in c:\\programdata\\anaconda3\\envs\\google-colab\\lib\\site-packages (from torch>=1.10.0->accelerate) (3.3)\n",
            "Requirement already satisfied: jinja2 in c:\\programdata\\anaconda3\\envs\\google-colab\\lib\\site-packages (from torch>=1.10.0->accelerate) (3.1.4)\n",
            "Requirement already satisfied: setuptools in c:\\programdata\\anaconda3\\envs\\google-colab\\lib\\site-packages (from torch>=1.10.0->accelerate) (72.1.0)\n",
            "Requirement already satisfied: colorama in c:\\programdata\\anaconda3\\envs\\google-colab\\lib\\site-packages (from tqdm>=4.42.1->huggingface-hub>=0.21.0->accelerate) (0.4.6)\n",
            "Requirement already satisfied: MarkupSafe>=2.0 in c:\\programdata\\anaconda3\\envs\\google-colab\\lib\\site-packages (from jinja2->torch>=1.10.0->accelerate) (2.1.3)\n",
            "Requirement already satisfied: charset-normalizer<4,>=2 in c:\\programdata\\anaconda3\\envs\\google-colab\\lib\\site-packages (from requests->huggingface-hub>=0.21.0->accelerate) (3.3.2)\n",
            "Requirement already satisfied: idna<4,>=2.5 in c:\\programdata\\anaconda3\\envs\\google-colab\\lib\\site-packages (from requests->huggingface-hub>=0.21.0->accelerate) (3.7)\n",
            "Requirement already satisfied: urllib3<3,>=1.21.1 in c:\\programdata\\anaconda3\\envs\\google-colab\\lib\\site-packages (from requests->huggingface-hub>=0.21.0->accelerate) (2.2.2)\n",
            "Requirement already satisfied: certifi>=2017.4.17 in c:\\programdata\\anaconda3\\envs\\google-colab\\lib\\site-packages (from requests->huggingface-hub>=0.21.0->accelerate) (2024.7.4)\n",
            "Requirement already satisfied: mpmath<1.4,>=1.1.0 in c:\\programdata\\anaconda3\\envs\\google-colab\\lib\\site-packages (from sympy->torch>=1.10.0->accelerate) (1.3.0)\n"
          ]
        }
      ],
      "source": [
        "# INSTALLS FOR EVERYTHING\n",
        "!pip install --upgrade transformers\n",
        "!pip install accelerate"
      ]
    },
    {
      "cell_type": "code",
      "execution_count": null,
      "metadata": {
        "colab": {
          "base_uri": "https://localhost:8080/"
        },
        "id": "Ke4xEvlbh1a3",
        "outputId": "53521240-206c-4063-9fad-c4efdf132e1e"
      },
      "outputs": [
        {
          "name": "stdout",
          "output_type": "stream",
          "text": [
            "Defaulting to user installation because normal site-packages is not writeable\n",
            "Requirement already satisfied: sentence_transformers in c:\\users\\aiteam\\appdata\\roaming\\python\\python312\\site-packages (3.0.1)\n",
            "Requirement already satisfied: transformers<5.0.0,>=4.34.0 in c:\\users\\aiteam\\appdata\\roaming\\python\\python312\\site-packages (from sentence_transformers) (4.44.0)\n",
            "Requirement already satisfied: tqdm in c:\\programdata\\anaconda3\\envs\\google-colab\\lib\\site-packages (from sentence_transformers) (4.66.5)\n",
            "Requirement already satisfied: torch>=1.11.0 in c:\\users\\aiteam\\appdata\\roaming\\python\\python312\\site-packages (from sentence_transformers) (2.4.0+cu118)\n",
            "Requirement already satisfied: numpy in c:\\programdata\\anaconda3\\envs\\google-colab\\lib\\site-packages (from sentence_transformers) (1.26.4)\n",
            "Requirement already satisfied: scikit-learn in c:\\users\\aiteam\\appdata\\roaming\\python\\python312\\site-packages (from sentence_transformers) (1.5.1)\n",
            "Requirement already satisfied: scipy in c:\\users\\aiteam\\appdata\\roaming\\python\\python312\\site-packages (from sentence_transformers) (1.14.0)\n",
            "Requirement already satisfied: huggingface-hub>=0.15.1 in c:\\users\\aiteam\\appdata\\roaming\\python\\python312\\site-packages (from sentence_transformers) (0.24.6)\n",
            "Requirement already satisfied: Pillow in c:\\users\\aiteam\\appdata\\roaming\\python\\python312\\site-packages (from sentence_transformers) (10.4.0)\n",
            "Requirement already satisfied: filelock in c:\\programdata\\anaconda3\\envs\\google-colab\\lib\\site-packages (from huggingface-hub>=0.15.1->sentence_transformers) (3.15.4)\n",
            "Requirement already satisfied: fsspec>=2023.5.0 in c:\\programdata\\anaconda3\\envs\\google-colab\\lib\\site-packages (from huggingface-hub>=0.15.1->sentence_transformers) (2024.6.1)\n",
            "Requirement already satisfied: packaging>=20.9 in c:\\programdata\\anaconda3\\envs\\google-colab\\lib\\site-packages (from huggingface-hub>=0.15.1->sentence_transformers) (24.1)\n",
            "Requirement already satisfied: pyyaml>=5.1 in c:\\programdata\\anaconda3\\envs\\google-colab\\lib\\site-packages (from huggingface-hub>=0.15.1->sentence_transformers) (6.0.1)\n",
            "Requirement already satisfied: requests in c:\\programdata\\anaconda3\\envs\\google-colab\\lib\\site-packages (from huggingface-hub>=0.15.1->sentence_transformers) (2.32.3)\n",
            "Requirement already satisfied: typing-extensions>=3.7.4.3 in c:\\programdata\\anaconda3\\envs\\google-colab\\lib\\site-packages (from huggingface-hub>=0.15.1->sentence_transformers) (4.11.0)\n",
            "Requirement already satisfied: sympy in c:\\programdata\\anaconda3\\envs\\google-colab\\lib\\site-packages (from torch>=1.11.0->sentence_transformers) (1.13.2)\n",
            "Requirement already satisfied: networkx in c:\\programdata\\anaconda3\\envs\\google-colab\\lib\\site-packages (from torch>=1.11.0->sentence_transformers) (3.3)\n",
            "Requirement already satisfied: jinja2 in c:\\programdata\\anaconda3\\envs\\google-colab\\lib\\site-packages (from torch>=1.11.0->sentence_transformers) (3.1.4)\n",
            "Requirement already satisfied: setuptools in c:\\programdata\\anaconda3\\envs\\google-colab\\lib\\site-packages (from torch>=1.11.0->sentence_transformers) (72.1.0)\n",
            "Requirement already satisfied: colorama in c:\\programdata\\anaconda3\\envs\\google-colab\\lib\\site-packages (from tqdm->sentence_transformers) (0.4.6)\n",
            "Requirement already satisfied: regex!=2019.12.17 in c:\\programdata\\anaconda3\\envs\\google-colab\\lib\\site-packages (from transformers<5.0.0,>=4.34.0->sentence_transformers) (2024.7.24)\n",
            "Requirement already satisfied: safetensors>=0.4.1 in c:\\users\\aiteam\\appdata\\roaming\\python\\python312\\site-packages (from transformers<5.0.0,>=4.34.0->sentence_transformers) (0.4.4)\n",
            "Requirement already satisfied: tokenizers<0.20,>=0.19 in c:\\users\\aiteam\\appdata\\roaming\\python\\python312\\site-packages (from transformers<5.0.0,>=4.34.0->sentence_transformers) (0.19.1)\n",
            "Requirement already satisfied: joblib>=1.2.0 in c:\\users\\aiteam\\appdata\\roaming\\python\\python312\\site-packages (from scikit-learn->sentence_transformers) (1.4.2)\n",
            "Requirement already satisfied: threadpoolctl>=3.1.0 in c:\\users\\aiteam\\appdata\\roaming\\python\\python312\\site-packages (from scikit-learn->sentence_transformers) (3.5.0)\n",
            "Requirement already satisfied: MarkupSafe>=2.0 in c:\\programdata\\anaconda3\\envs\\google-colab\\lib\\site-packages (from jinja2->torch>=1.11.0->sentence_transformers) (2.1.3)\n",
            "Requirement already satisfied: charset-normalizer<4,>=2 in c:\\programdata\\anaconda3\\envs\\google-colab\\lib\\site-packages (from requests->huggingface-hub>=0.15.1->sentence_transformers) (3.3.2)\n",
            "Requirement already satisfied: idna<4,>=2.5 in c:\\programdata\\anaconda3\\envs\\google-colab\\lib\\site-packages (from requests->huggingface-hub>=0.15.1->sentence_transformers) (3.7)\n",
            "Requirement already satisfied: urllib3<3,>=1.21.1 in c:\\programdata\\anaconda3\\envs\\google-colab\\lib\\site-packages (from requests->huggingface-hub>=0.15.1->sentence_transformers) (2.2.2)\n",
            "Requirement already satisfied: certifi>=2017.4.17 in c:\\programdata\\anaconda3\\envs\\google-colab\\lib\\site-packages (from requests->huggingface-hub>=0.15.1->sentence_transformers) (2024.7.4)\n",
            "Requirement already satisfied: mpmath<1.4,>=1.1.0 in c:\\programdata\\anaconda3\\envs\\google-colab\\lib\\site-packages (from sympy->torch>=1.11.0->sentence_transformers) (1.3.0)\n"
          ]
        }
      ],
      "source": [
        "\n",
        "# INSTALLS FOR NOMIC RETRIEVER\n",
        "!pip install sentence_transformers\n",
        "\n",
        "\n"
      ]
    },
    {
      "cell_type": "code",
      "execution_count": null,
      "metadata": {
        "id": "E_2a3yJxyl_P"
      },
      "outputs": [],
      "source": [
        "from IPython.display import display, Markdown\n"
      ]
    },
    {
      "cell_type": "code",
      "execution_count": null,
      "metadata": {
        "id": "AOT5yGFnZi6U",
        "outputId": "2ac456ed-9bbc-4291-8c23-d1ca763c48c5"
      },
      "outputs": [
        {
          "name": "stdout",
          "output_type": "stream",
          "text": [
            "Defaulting to user installation because normal site-packages is not writeable\n",
            "Looking in indexes: https://download.pytorch.org/whl/cu118\n",
            "Requirement already satisfied: torch in c:\\users\\aiteam\\appdata\\roaming\\python\\python312\\site-packages (2.4.0+cu118)\n",
            "Requirement already satisfied: torchvision in c:\\users\\aiteam\\appdata\\roaming\\python\\python312\\site-packages (0.19.0+cu118)\n",
            "Requirement already satisfied: torchaudio in c:\\users\\aiteam\\appdata\\roaming\\python\\python312\\site-packages (2.4.0+cu118)\n",
            "Requirement already satisfied: filelock in c:\\programdata\\anaconda3\\envs\\google-colab\\lib\\site-packages (from torch) (3.15.4)\n",
            "Requirement already satisfied: typing-extensions>=4.8.0 in c:\\programdata\\anaconda3\\envs\\google-colab\\lib\\site-packages (from torch) (4.11.0)\n",
            "Requirement already satisfied: sympy in c:\\programdata\\anaconda3\\envs\\google-colab\\lib\\site-packages (from torch) (1.13.2)\n",
            "Requirement already satisfied: networkx in c:\\programdata\\anaconda3\\envs\\google-colab\\lib\\site-packages (from torch) (3.3)\n",
            "Requirement already satisfied: jinja2 in c:\\programdata\\anaconda3\\envs\\google-colab\\lib\\site-packages (from torch) (3.1.4)\n",
            "Requirement already satisfied: fsspec in c:\\programdata\\anaconda3\\envs\\google-colab\\lib\\site-packages (from torch) (2024.6.1)\n",
            "Requirement already satisfied: setuptools in c:\\programdata\\anaconda3\\envs\\google-colab\\lib\\site-packages (from torch) (72.1.0)\n",
            "Requirement already satisfied: numpy in c:\\programdata\\anaconda3\\envs\\google-colab\\lib\\site-packages (from torchvision) (1.26.4)\n",
            "Requirement already satisfied: pillow!=8.3.*,>=5.3.0 in c:\\users\\aiteam\\appdata\\roaming\\python\\python312\\site-packages (from torchvision) (10.4.0)\n",
            "Requirement already satisfied: MarkupSafe>=2.0 in c:\\programdata\\anaconda3\\envs\\google-colab\\lib\\site-packages (from jinja2->torch) (2.1.3)\n",
            "Requirement already satisfied: mpmath<1.4,>=1.1.0 in c:\\programdata\\anaconda3\\envs\\google-colab\\lib\\site-packages (from sympy->torch) (1.3.0)\n"
          ]
        }
      ],
      "source": [
        "!pip3 install torch torchvision torchaudio --index-url https://download.pytorch.org/whl/cu118\n"
      ]
    },
    {
      "cell_type": "code",
      "execution_count": null,
      "metadata": {
        "id": "6aKduZpxQfQg"
      },
      "outputs": [],
      "source": [
        "import transformers\n",
        "import torch"
      ]
    },
    {
      "cell_type": "code",
      "execution_count": null,
      "metadata": {
        "id": "jQPsKeDjZi6U",
        "outputId": "f5371950-068b-45ee-8273-e4ec7e14b481"
      },
      "outputs": [
        {
          "name": "stdout",
          "output_type": "stream",
          "text": [
            "Defaulting to user installation because normal site-packages is not writeable\n",
            "Collecting transformers==4.28.0\n",
            "  Using cached transformers-4.28.0-py3-none-any.whl.metadata (109 kB)\n",
            "Requirement already satisfied: filelock in c:\\programdata\\anaconda3\\envs\\google-colab\\lib\\site-packages (from transformers==4.28.0) (3.15.4)\n",
            "Requirement already satisfied: huggingface-hub<1.0,>=0.11.0 in c:\\users\\aiteam\\appdata\\roaming\\python\\python312\\site-packages (from transformers==4.28.0) (0.24.6)\n",
            "Requirement already satisfied: numpy>=1.17 in c:\\programdata\\anaconda3\\envs\\google-colab\\lib\\site-packages (from transformers==4.28.0) (1.26.4)\n",
            "Requirement already satisfied: packaging>=20.0 in c:\\programdata\\anaconda3\\envs\\google-colab\\lib\\site-packages (from transformers==4.28.0) (24.1)\n",
            "Requirement already satisfied: pyyaml>=5.1 in c:\\programdata\\anaconda3\\envs\\google-colab\\lib\\site-packages (from transformers==4.28.0) (6.0.1)\n",
            "Requirement already satisfied: regex!=2019.12.17 in c:\\programdata\\anaconda3\\envs\\google-colab\\lib\\site-packages (from transformers==4.28.0) (2024.7.24)\n",
            "Requirement already satisfied: requests in c:\\programdata\\anaconda3\\envs\\google-colab\\lib\\site-packages (from transformers==4.28.0) (2.32.3)\n",
            "Collecting tokenizers!=0.11.3,<0.14,>=0.11.1 (from transformers==4.28.0)\n",
            "  Using cached tokenizers-0.13.3.tar.gz (314 kB)\n",
            "  Installing build dependencies: started\n",
            "  Installing build dependencies: finished with status 'done'\n",
            "  Getting requirements to build wheel: started\n",
            "  Getting requirements to build wheel: finished with status 'done'\n",
            "  Preparing metadata (pyproject.toml): started\n",
            "  Preparing metadata (pyproject.toml): finished with status 'done'\n",
            "Requirement already satisfied: tqdm>=4.27 in c:\\programdata\\anaconda3\\envs\\google-colab\\lib\\site-packages (from transformers==4.28.0) (4.66.5)\n",
            "Requirement already satisfied: fsspec>=2023.5.0 in c:\\programdata\\anaconda3\\envs\\google-colab\\lib\\site-packages (from huggingface-hub<1.0,>=0.11.0->transformers==4.28.0) (2024.6.1)\n",
            "Requirement already satisfied: typing-extensions>=3.7.4.3 in c:\\programdata\\anaconda3\\envs\\google-colab\\lib\\site-packages (from huggingface-hub<1.0,>=0.11.0->transformers==4.28.0) (4.11.0)\n",
            "Requirement already satisfied: colorama in c:\\programdata\\anaconda3\\envs\\google-colab\\lib\\site-packages (from tqdm>=4.27->transformers==4.28.0) (0.4.6)\n",
            "Requirement already satisfied: charset-normalizer<4,>=2 in c:\\programdata\\anaconda3\\envs\\google-colab\\lib\\site-packages (from requests->transformers==4.28.0) (3.3.2)\n",
            "Requirement already satisfied: idna<4,>=2.5 in c:\\programdata\\anaconda3\\envs\\google-colab\\lib\\site-packages (from requests->transformers==4.28.0) (3.7)\n",
            "Requirement already satisfied: urllib3<3,>=1.21.1 in c:\\programdata\\anaconda3\\envs\\google-colab\\lib\\site-packages (from requests->transformers==4.28.0) (2.2.2)\n",
            "Requirement already satisfied: certifi>=2017.4.17 in c:\\programdata\\anaconda3\\envs\\google-colab\\lib\\site-packages (from requests->transformers==4.28.0) (2024.7.4)\n",
            "Using cached transformers-4.28.0-py3-none-any.whl (7.0 MB)\n",
            "Building wheels for collected packages: tokenizers\n",
            "  Building wheel for tokenizers (pyproject.toml): started\n",
            "  Building wheel for tokenizers (pyproject.toml): finished with status 'error'\n",
            "Failed to build tokenizers\n"
          ]
        },
        {
          "name": "stderr",
          "output_type": "stream",
          "text": [
            "  error: subprocess-exited-with-error\n",
            "  \n",
            "  × Building wheel for tokenizers (pyproject.toml) did not run successfully.\n",
            "  │ exit code: 1\n",
            "  ╰─> [51 lines of output]\n",
            "      running bdist_wheel\n",
            "      running build\n",
            "      running build_py\n",
            "      creating build\n",
            "      creating build\\lib.win-amd64-cpython-312\n",
            "      creating build\\lib.win-amd64-cpython-312\\tokenizers\n",
            "      copying py_src\\tokenizers\\__init__.py -> build\\lib.win-amd64-cpython-312\\tokenizers\n",
            "      creating build\\lib.win-amd64-cpython-312\\tokenizers\\models\n",
            "      copying py_src\\tokenizers\\models\\__init__.py -> build\\lib.win-amd64-cpython-312\\tokenizers\\models\n",
            "      creating build\\lib.win-amd64-cpython-312\\tokenizers\\decoders\n",
            "      copying py_src\\tokenizers\\decoders\\__init__.py -> build\\lib.win-amd64-cpython-312\\tokenizers\\decoders\n",
            "      creating build\\lib.win-amd64-cpython-312\\tokenizers\\normalizers\n",
            "      copying py_src\\tokenizers\\normalizers\\__init__.py -> build\\lib.win-amd64-cpython-312\\tokenizers\\normalizers\n",
            "      creating build\\lib.win-amd64-cpython-312\\tokenizers\\pre_tokenizers\n",
            "      copying py_src\\tokenizers\\pre_tokenizers\\__init__.py -> build\\lib.win-amd64-cpython-312\\tokenizers\\pre_tokenizers\n",
            "      creating build\\lib.win-amd64-cpython-312\\tokenizers\\processors\n",
            "      copying py_src\\tokenizers\\processors\\__init__.py -> build\\lib.win-amd64-cpython-312\\tokenizers\\processors\n",
            "      creating build\\lib.win-amd64-cpython-312\\tokenizers\\trainers\n",
            "      copying py_src\\tokenizers\\trainers\\__init__.py -> build\\lib.win-amd64-cpython-312\\tokenizers\\trainers\n",
            "      creating build\\lib.win-amd64-cpython-312\\tokenizers\\implementations\n",
            "      copying py_src\\tokenizers\\implementations\\base_tokenizer.py -> build\\lib.win-amd64-cpython-312\\tokenizers\\implementations\n",
            "      copying py_src\\tokenizers\\implementations\\bert_wordpiece.py -> build\\lib.win-amd64-cpython-312\\tokenizers\\implementations\n",
            "      copying py_src\\tokenizers\\implementations\\byte_level_bpe.py -> build\\lib.win-amd64-cpython-312\\tokenizers\\implementations\n",
            "      copying py_src\\tokenizers\\implementations\\char_level_bpe.py -> build\\lib.win-amd64-cpython-312\\tokenizers\\implementations\n",
            "      copying py_src\\tokenizers\\implementations\\sentencepiece_bpe.py -> build\\lib.win-amd64-cpython-312\\tokenizers\\implementations\n",
            "      copying py_src\\tokenizers\\implementations\\sentencepiece_unigram.py -> build\\lib.win-amd64-cpython-312\\tokenizers\\implementations\n",
            "      copying py_src\\tokenizers\\implementations\\__init__.py -> build\\lib.win-amd64-cpython-312\\tokenizers\\implementations\n",
            "      creating build\\lib.win-amd64-cpython-312\\tokenizers\\tools\n",
            "      copying py_src\\tokenizers\\tools\\visualizer.py -> build\\lib.win-amd64-cpython-312\\tokenizers\\tools\n",
            "      copying py_src\\tokenizers\\tools\\__init__.py -> build\\lib.win-amd64-cpython-312\\tokenizers\\tools\n",
            "      copying py_src\\tokenizers\\__init__.pyi -> build\\lib.win-amd64-cpython-312\\tokenizers\n",
            "      copying py_src\\tokenizers\\models\\__init__.pyi -> build\\lib.win-amd64-cpython-312\\tokenizers\\models\n",
            "      copying py_src\\tokenizers\\decoders\\__init__.pyi -> build\\lib.win-amd64-cpython-312\\tokenizers\\decoders\n",
            "      copying py_src\\tokenizers\\normalizers\\__init__.pyi -> build\\lib.win-amd64-cpython-312\\tokenizers\\normalizers\n",
            "      copying py_src\\tokenizers\\pre_tokenizers\\__init__.pyi -> build\\lib.win-amd64-cpython-312\\tokenizers\\pre_tokenizers\n",
            "      copying py_src\\tokenizers\\processors\\__init__.pyi -> build\\lib.win-amd64-cpython-312\\tokenizers\\processors\n",
            "      copying py_src\\tokenizers\\trainers\\__init__.pyi -> build\\lib.win-amd64-cpython-312\\tokenizers\\trainers\n",
            "      copying py_src\\tokenizers\\tools\\visualizer-styles.css -> build\\lib.win-amd64-cpython-312\\tokenizers\\tools\n",
            "      running build_ext\n",
            "      running build_rust\n",
            "      error: can't find Rust compiler\n",
            "      \n",
            "      If you are using an outdated pip version, it is possible a prebuilt wheel is available for this package but pip is not able to install from it. Installing from the wheel would avoid the need for a Rust compiler.\n",
            "      \n",
            "      To update pip, run:\n",
            "      \n",
            "          pip install --upgrade pip\n",
            "      \n",
            "      and then retry package installation.\n",
            "      \n",
            "      If you did intend to build this package from source, try installing a Rust compiler from your system package manager and ensure it is on the PATH during installation. Alternatively, rustup (available at https://rustup.rs) is the recommended way to download and update the Rust compiler toolchain.\n",
            "      [end of output]\n",
            "  \n",
            "  note: This error originates from a subprocess, and is likely not a problem with pip.\n",
            "  ERROR: Failed building wheel for tokenizers\n",
            "ERROR: ERROR: Failed to build installable wheels for some pyproject.toml based projects (tokenizers)\n"
          ]
        }
      ],
      "source": [
        "!pip install transformers==4.28.0"
      ]
    },
    {
      "cell_type": "code",
      "execution_count": null,
      "metadata": {
        "id": "DOCGBFP6Zi6U",
        "outputId": "2555a13b-b98b-4798-bd17-9719b5ebf61c"
      },
      "outputs": [
        {
          "name": "stdout",
          "output_type": "stream",
          "text": [
            "Defaulting to user installation because normal site-packages is not writeable\n",
            "Collecting einops\n",
            "  Downloading einops-0.8.0-py3-none-any.whl.metadata (12 kB)\n",
            "Downloading einops-0.8.0-py3-none-any.whl (43 kB)\n",
            "Installing collected packages: einops\n",
            "Successfully installed einops-0.8.0\n"
          ]
        }
      ],
      "source": [
        "!pip install einops"
      ]
    },
    {
      "cell_type": "code",
      "execution_count": null,
      "metadata": {
        "id": "y2SLZDBHZi6V",
        "outputId": "62e37fc5-a1d5-478a-bed9-a9b79677d474"
      },
      "outputs": [
        {
          "name": "stdout",
          "output_type": "stream",
          "text": [
            "Defaulting to user installation because normal site-packages is not writeable\n",
            "Collecting pandas\n",
            "  Downloading pandas-2.2.2-cp312-cp312-win_amd64.whl.metadata (19 kB)\n",
            "Requirement already satisfied: numpy>=1.26.0 in c:\\programdata\\anaconda3\\envs\\google-colab\\lib\\site-packages (from pandas) (1.26.4)\n",
            "Requirement already satisfied: python-dateutil>=2.8.2 in c:\\programdata\\anaconda3\\envs\\google-colab\\lib\\site-packages (from pandas) (2.9.0.post0)\n",
            "Requirement already satisfied: pytz>=2020.1 in c:\\programdata\\anaconda3\\envs\\google-colab\\lib\\site-packages (from pandas) (2024.1)\n",
            "Collecting tzdata>=2022.7 (from pandas)\n",
            "  Downloading tzdata-2024.1-py2.py3-none-any.whl.metadata (1.4 kB)\n",
            "Requirement already satisfied: six>=1.5 in c:\\programdata\\anaconda3\\envs\\google-colab\\lib\\site-packages (from python-dateutil>=2.8.2->pandas) (1.16.0)\n",
            "Downloading pandas-2.2.2-cp312-cp312-win_amd64.whl (11.5 MB)\n",
            "   ---------------------------------------- 0.0/11.5 MB ? eta -:--:--\n",
            "    --------------------------------------- 0.3/11.5 MB ? eta -:--:--\n",
            "   - -------------------------------------- 0.5/11.5 MB 2.4 MB/s eta 0:00:05\n",
            "   --- ------------------------------------ 1.0/11.5 MB 1.7 MB/s eta 0:00:07\n",
            "   ---- ----------------------------------- 1.3/11.5 MB 1.6 MB/s eta 0:00:07\n",
            "   ----- ---------------------------------- 1.6/11.5 MB 1.6 MB/s eta 0:00:07\n",
            "   ------ --------------------------------- 1.8/11.5 MB 1.6 MB/s eta 0:00:06\n",
            "   ------ --------------------------------- 1.8/11.5 MB 1.6 MB/s eta 0:00:06\n",
            "   -------- ------------------------------- 2.4/11.5 MB 1.4 MB/s eta 0:00:07\n",
            "   --------- ------------------------------ 2.6/11.5 MB 1.4 MB/s eta 0:00:07\n",
            "   ---------- ----------------------------- 2.9/11.5 MB 1.4 MB/s eta 0:00:07\n",
            "   ---------- ----------------------------- 3.1/11.5 MB 1.5 MB/s eta 0:00:06\n",
            "   ----------- ---------------------------- 3.4/11.5 MB 1.5 MB/s eta 0:00:06\n",
            "   ------------ --------------------------- 3.7/11.5 MB 1.4 MB/s eta 0:00:06\n",
            "   ------------- -------------------------- 3.9/11.5 MB 1.4 MB/s eta 0:00:06\n",
            "   -------------- ------------------------- 4.2/11.5 MB 1.4 MB/s eta 0:00:06\n",
            "   --------------- ------------------------ 4.5/11.5 MB 1.4 MB/s eta 0:00:06\n",
            "   ---------------- ----------------------- 4.7/11.5 MB 1.4 MB/s eta 0:00:05\n",
            "   ---------------- ----------------------- 4.7/11.5 MB 1.4 MB/s eta 0:00:05\n",
            "   ----------------- ---------------------- 5.0/11.5 MB 1.3 MB/s eta 0:00:05\n",
            "   ------------------ --------------------- 5.2/11.5 MB 1.3 MB/s eta 0:00:05\n",
            "   ------------------- -------------------- 5.5/11.5 MB 1.3 MB/s eta 0:00:05\n",
            "   -------------------- ------------------- 5.8/11.5 MB 1.3 MB/s eta 0:00:05\n",
            "   -------------------- ------------------- 6.0/11.5 MB 1.3 MB/s eta 0:00:05\n",
            "   --------------------- ------------------ 6.3/11.5 MB 1.3 MB/s eta 0:00:05\n",
            "   ---------------------- ----------------- 6.6/11.5 MB 1.3 MB/s eta 0:00:04\n",
            "   ----------------------- ---------------- 6.8/11.5 MB 1.3 MB/s eta 0:00:04\n",
            "   ------------------------ --------------- 7.1/11.5 MB 1.3 MB/s eta 0:00:04\n",
            "   ------------------------- -------------- 7.3/11.5 MB 1.3 MB/s eta 0:00:04\n",
            "   -------------------------- ------------- 7.6/11.5 MB 1.3 MB/s eta 0:00:03\n",
            "   --------------------------- ------------ 7.9/11.5 MB 1.3 MB/s eta 0:00:03\n",
            "   ---------------------------- ----------- 8.1/11.5 MB 1.3 MB/s eta 0:00:03\n",
            "   ----------------------------- ---------- 8.4/11.5 MB 1.3 MB/s eta 0:00:03\n",
            "   ------------------------------ --------- 8.7/11.5 MB 1.3 MB/s eta 0:00:03\n",
            "   ------------------------------- -------- 8.9/11.5 MB 1.3 MB/s eta 0:00:02\n",
            "   ------------------------------- -------- 9.2/11.5 MB 1.3 MB/s eta 0:00:02\n",
            "   -------------------------------- ------- 9.4/11.5 MB 1.3 MB/s eta 0:00:02\n",
            "   --------------------------------- ------ 9.7/11.5 MB 1.3 MB/s eta 0:00:02\n",
            "   ---------------------------------- ----- 10.0/11.5 MB 1.3 MB/s eta 0:00:02\n",
            "   ----------------------------------- ---- 10.2/11.5 MB 1.3 MB/s eta 0:00:01\n",
            "   ------------------------------------ --- 10.5/11.5 MB 1.3 MB/s eta 0:00:01\n",
            "   ------------------------------------- -- 10.7/11.5 MB 1.3 MB/s eta 0:00:01\n",
            "   ---------------------------------------  11.3/11.5 MB 1.3 MB/s eta 0:00:01\n",
            "   ---------------------------------------- 11.5/11.5 MB 1.3 MB/s eta 0:00:00\n",
            "Downloading tzdata-2024.1-py2.py3-none-any.whl (345 kB)\n",
            "Installing collected packages: tzdata, pandas\n",
            "Successfully installed pandas-2.2.2 tzdata-2024.1\n",
            "Defaulting to user installation because normal site-packages is not writeable\n",
            "Requirement already satisfied: numpy in c:\\programdata\\anaconda3\\envs\\google-colab\\lib\\site-packages (1.26.4)\n"
          ]
        }
      ],
      "source": [
        "!pip install pandas\n",
        "!pip install numpy\n",
        "import pandas as pd\n",
        "import numpy as np"
      ]
    },
    {
      "cell_type": "code",
      "execution_count": null,
      "metadata": {
        "colab": {
          "base_uri": "https://localhost:8080/"
        },
        "id": "VSJFxgal1FRd",
        "outputId": "27aeaa99-ef50-4627-bf45-cd5a5087249d"
      },
      "outputs": [
        {
          "name": "stdout",
          "output_type": "stream",
          "text": [
            "Loading sentence_transformers\n",
            "Loading SentenceTransformers model\n"
          ]
        },
        {
          "name": "stderr",
          "output_type": "stream",
          "text": [
            "<All keys matched successfully>\n"
          ]
        }
      ],
      "source": [
        "import transformers\n",
        "import torch\n",
        "\n",
        "# Model location: https://huggingface.co/meta-llama/Meta-Llama-3.1-8B-Instruct\n",
        "# Need huggingface\n",
        "\n",
        "HF_TOKEN = \"Put one here\"\n",
        "\n",
        "model_id = \"meta-llama/Meta-Llama-3.1-8B-Instruct\"\n",
        "\n",
        "pipeline = transformers.pipeline(\n",
        "    \"text-generation\",\n",
        "    model=model_id,\n",
        "    #model_kwargs={\"torch_dtype\": torch.float32},\n",
        "    #model_kwargs={\"torch_dtype\": torch.float16},\n",
        "    model_kwargs={\"torch_dtype\": torch.bfloat16},\n",
        "    #model_kwargs={\"torch_dtype\": torch.int8},\n",
        "    device_map=\"auto\",\n",
        "    token=HF_TOKEN,\n",
        ")"
      ]
    },
    {
      "cell_type": "code",
      "execution_count": null,
      "metadata": {
        "id": "TPfp3oq3Zi6V"
      },
      "outputs": [],
      "source": []
    },
    {
      "cell_type": "code",
      "execution_count": null,
      "metadata": {
        "colab": {
          "base_uri": "https://localhost:8080/",
          "height": 84,
          "referenced_widgets": [
            "6d4ed351be1b43eca05dd0db518fda5c",
            "498dd4a92d8c45f29033f816328be037",
            "ee854bec7c77488daa1fa6ddcbcb1fa1",
            "38f1023f280e42f2ad9187a13876cc79",
            "5672f3f6e16f4296b14e009909849f97",
            "19a1876d85e74b7ebe9beb05061c428c",
            "44030998f465423aae1f49a7df4198ea",
            "472388aa05c34f00bedac5b6c288546f",
            "7893eed3a9d14482bcddbc31237243b2",
            "43e6f8bb93914b9594dcd6d0fad6c1d3",
            "1afe38a07c81410ca7bbe9dd5415806e",
            "31649121e9ea4eebadef3126035ede94",
            "ec88b9fac7ce4269bee63f9408040f72",
            "acdfb3a4eefa47548a7c75647c07dacb",
            "aecfaac91bbd472f9c125f045298e899",
            "f4782b31036445278d56a61405a56b3a",
            "c906046c66d54aecae0f70120b6974fe",
            "e6aea34c77574c2cbba9f2bda0499e43",
            "0de27576baff40f3889d3392b97cc41e",
            "fa27dfe7ab424b6d918acdfeb4dcc8ee",
            "91d9b22aa76344d6b1aa10366281b0c9",
            "edf44e729aec4fbab611e134e05d99e9",
            "04b7c2860d1b49a18e587cae44c91515"
          ]
        },
        "id": "HQgYKt42uj8D",
        "outputId": "350dcb4a-b592-41cf-c6a9-1c2d10d5813b"
      },
      "outputs": [
        {
          "name": "stdout",
          "output_type": "stream",
          "text": [
            "---- LOADING MODEL meta-llama/Meta-Llama-3.1-8B-Instruct  ------\n"
          ]
        },
        {
          "data": {
            "application/vnd.jupyter.widget-view+json": {
              "model_id": "31649121e9ea4eebadef3126035ede94",
              "version_major": 2,
              "version_minor": 0
            },
            "text/plain": [
              "config.json:   0%|          | 0.00/855 [00:00<?, ?B/s]"
            ]
          },
          "metadata": {},
          "output_type": "display_data"
        },
        {
          "name": "stderr",
          "output_type": "stream",
          "text": [
            "C:\\Users\\aiteam\\AppData\\Roaming\\Python\\Python312\\site-packages\\huggingface_hub\\file_download.py:159: UserWarning: `huggingface_hub` cache-system uses symlinks by default to efficiently store duplicated files but your machine does not support them in C:\\Users\\aiteam\\.cache\\huggingface\\hub\\models--meta-llama--Meta-Llama-3.1-8B-Instruct. Caching files will still work but in a degraded version that might require more space on your disk. This warning can be disabled by setting the `HF_HUB_DISABLE_SYMLINKS_WARNING` environment variable. For more details, see https://huggingface.co/docs/huggingface_hub/how-to-cache#limitations.\n",
            "To support symlinks on Windows, you either need to activate Developer Mode or to run Python as an administrator. In order to see activate developer mode, see this article: https://docs.microsoft.com/en-us/windows/apps/get-started/enable-your-device-for-development\n",
            "  warnings.warn(message)\n"
          ]
        },
        {
          "data": {
            "application/vnd.jupyter.widget-view+json": {
              "model_id": "ec88b9fac7ce4269bee63f9408040f72",
              "version_major": 2,
              "version_minor": 0
            },
            "text/plain": [
              "model.safetensors.index.json:   0%|          | 0.00/23.9k [00:00<?, ?B/s]"
            ]
          },
          "metadata": {},
          "output_type": "display_data"
        },
        {
          "data": {
            "application/vnd.jupyter.widget-view+json": {
              "model_id": "acdfb3a4eefa47548a7c75647c07dacb",
              "version_major": 2,
              "version_minor": 0
            },
            "text/plain": [
              "Downloading shards:   0%|          | 0/4 [00:00<?, ?it/s]"
            ]
          },
          "metadata": {},
          "output_type": "display_data"
        },
        {
          "data": {
            "application/vnd.jupyter.widget-view+json": {
              "model_id": "aecfaac91bbd472f9c125f045298e899",
              "version_major": 2,
              "version_minor": 0
            },
            "text/plain": [
              "model-00001-of-00004.safetensors:   0%|          | 0.00/4.98G [00:00<?, ?B/s]"
            ]
          },
          "metadata": {},
          "output_type": "display_data"
        },
        {
          "data": {
            "application/vnd.jupyter.widget-view+json": {
              "model_id": "f4782b31036445278d56a61405a56b3a",
              "version_major": 2,
              "version_minor": 0
            },
            "text/plain": [
              "model-00002-of-00004.safetensors:   0%|          | 0.00/5.00G [00:00<?, ?B/s]"
            ]
          },
          "metadata": {},
          "output_type": "display_data"
        },
        {
          "data": {
            "application/vnd.jupyter.widget-view+json": {
              "model_id": "c906046c66d54aecae0f70120b6974fe",
              "version_major": 2,
              "version_minor": 0
            },
            "text/plain": [
              "model-00003-of-00004.safetensors:   0%|          | 0.00/4.92G [00:00<?, ?B/s]"
            ]
          },
          "metadata": {},
          "output_type": "display_data"
        },
        {
          "data": {
            "application/vnd.jupyter.widget-view+json": {
              "model_id": "e6aea34c77574c2cbba9f2bda0499e43",
              "version_major": 2,
              "version_minor": 0
            },
            "text/plain": [
              "model-00004-of-00004.safetensors:   0%|          | 0.00/1.17G [00:00<?, ?B/s]"
            ]
          },
          "metadata": {},
          "output_type": "display_data"
        },
        {
          "data": {
            "application/vnd.jupyter.widget-view+json": {
              "model_id": "0de27576baff40f3889d3392b97cc41e",
              "version_major": 2,
              "version_minor": 0
            },
            "text/plain": [
              "Loading checkpoint shards:   0%|          | 0/4 [00:00<?, ?it/s]"
            ]
          },
          "metadata": {},
          "output_type": "display_data"
        },
        {
          "data": {
            "application/vnd.jupyter.widget-view+json": {
              "model_id": "fa27dfe7ab424b6d918acdfeb4dcc8ee",
              "version_major": 2,
              "version_minor": 0
            },
            "text/plain": [
              "generation_config.json:   0%|          | 0.00/184 [00:00<?, ?B/s]"
            ]
          },
          "metadata": {},
          "output_type": "display_data"
        },
        {
          "name": "stderr",
          "output_type": "stream",
          "text": [
            "Some parameters are on the meta device device because they were offloaded to the cpu.\n"
          ]
        },
        {
          "data": {
            "application/vnd.jupyter.widget-view+json": {
              "model_id": "91d9b22aa76344d6b1aa10366281b0c9",
              "version_major": 2,
              "version_minor": 0
            },
            "text/plain": [
              "tokenizer_config.json:   0%|          | 0.00/55.4k [00:00<?, ?B/s]"
            ]
          },
          "metadata": {},
          "output_type": "display_data"
        },
        {
          "data": {
            "application/vnd.jupyter.widget-view+json": {
              "model_id": "edf44e729aec4fbab611e134e05d99e9",
              "version_major": 2,
              "version_minor": 0
            },
            "text/plain": [
              "tokenizer.json:   0%|          | 0.00/9.09M [00:00<?, ?B/s]"
            ]
          },
          "metadata": {},
          "output_type": "display_data"
        },
        {
          "data": {
            "application/vnd.jupyter.widget-view+json": {
              "model_id": "04b7c2860d1b49a18e587cae44c91515",
              "version_major": 2,
              "version_minor": 0
            },
            "text/plain": [
              "special_tokens_map.json:   0%|          | 0.00/296 [00:00<?, ?B/s]"
            ]
          },
          "metadata": {},
          "output_type": "display_data"
        }
      ],
      "source": [
        "#Load LLM model\n",
        "\n",
        "#pipe, messages = Aayush.load_Gemma_2_9b_18GB()\n",
        "pipe, messages = Aayush.load_Llama_31_8b_16GB()"
      ]
    },
    {
      "cell_type": "code",
      "execution_count": null,
      "metadata": {
        "id": "bPU8thtNZi6V",
        "outputId": "088372a4-2300-4e5e-e8b3-24d62f2f506a",
        "colab": {
          "referenced_widgets": [
            "fa6d3710d62e427ba8bb0eef1b8d69ba"
          ]
        }
      },
      "outputs": [
        {
          "name": "stderr",
          "output_type": "stream",
          "text": [
            "C:\\Users\\aiteam\\AppData\\Roaming\\Python\\Python312\\site-packages\\transformers\\modeling_utils.py:2611: UserWarning: Attempting to save a model with offloaded modules. Ensure that unallocated cpu memory exceeds the `shard_size` (5GB default)\n",
            "  warnings.warn(\n"
          ]
        },
        {
          "data": {
            "application/vnd.jupyter.widget-view+json": {
              "model_id": "fa6d3710d62e427ba8bb0eef1b8d69ba",
              "version_major": 2,
              "version_minor": 0
            },
            "text/plain": [
              "Saving checkpoint shards:   0%|          | 0/3 [00:00<?, ?it/s]"
            ]
          },
          "metadata": {},
          "output_type": "display_data"
        }
      ],
      "source": [
        "pipe.save_pretrained(r\"Put yours here\")\n",
        "#with the new save there are only 3 shards instead of the original 4"
      ]
    },
    {
      "cell_type": "code",
      "execution_count": null,
      "metadata": {
        "id": "QDlPar1LZi6W",
        "outputId": "8fb3e63b-7810-4d1f-a579-ea5564bd7c14",
        "colab": {
          "referenced_widgets": [
            "ba501a558e70450484d1992baddb17b5"
          ]
        }
      },
      "outputs": [
        {
          "data": {
            "application/vnd.jupyter.widget-view+json": {
              "model_id": "ba501a558e70450484d1992baddb17b5",
              "version_major": 2,
              "version_minor": 0
            },
            "text/plain": [
              "Loading checkpoint shards:   0%|          | 0/3 [00:00<?, ?it/s]"
            ]
          },
          "metadata": {},
          "output_type": "display_data"
        }
      ],
      "source": [
        "from transformers import pipeline\n",
        "pipe2 = pipeline( \"text-generation\", model = r\"Put yours here\", device = 0)\n"
      ]
    },
    {
      "cell_type": "code",
      "execution_count": null,
      "metadata": {
        "id": "pxcq6PYpZi6W",
        "outputId": "9212105c-ad31-463d-a598-42f5f5f0b09e"
      },
      "outputs": [
        {
          "data": {
            "text/plain": [
              "transformers.pipelines.text_generation.TextGenerationPipeline"
            ]
          },
          "execution_count": 34,
          "metadata": {},
          "output_type": "execute_result"
        }
      ],
      "source": [
        "type(pipe2)"
      ]
    },
    {
      "cell_type": "code",
      "execution_count": null,
      "metadata": {
        "id": "E8vUJEhSnqDE"
      },
      "outputs": [],
      "source": [
        "#messages = []"
      ]
    },
    {
      "cell_type": "code",
      "execution_count": null,
      "metadata": {
        "colab": {
          "base_uri": "https://localhost:8080/",
          "height": 81
        },
        "id": "APtxH0bGioHM",
        "outputId": "83b1d60c-8799-4276-e921-41970587e187"
      },
      "outputs": [
        {
          "name": "stderr",
          "output_type": "stream",
          "text": [
            "Setting `pad_token_id` to `eos_token_id`:128001 for open-end generation.\n"
          ]
        },
        {
          "name": "stdout",
          "output_type": "stream",
          "text": [
            "---- RUNNING MODEL meta-llama/Meta-Llama-3.1-8B-Instruct  ------\n"
          ]
        },
        {
          "name": "stderr",
          "output_type": "stream",
          "text": [
            "C:\\Users\\aiteam\\AppData\\Roaming\\Python\\Python312\\site-packages\\transformers\\models\\llama\\modeling_llama.py:660: UserWarning: 1Torch was not compiled with flash attention. (Triggered internally at C:\\actions-runner\\_work\\pytorch\\pytorch\\builder\\windows\\pytorch\\aten\\src\\ATen\\native\\transformers\\cuda\\sdp_utils.cpp:555.)\n",
            "  attn_output = torch.nn.functional.scaled_dot_product_attention(\n"
          ]
        },
        {
          "data": {
            "text/markdown": [
              "The heart consists of four chambers and a muscular wall."
            ],
            "text/plain": [
              "<IPython.core.display.Markdown object>"
            ]
          },
          "metadata": {},
          "output_type": "display_data"
        }
      ],
      "source": [
        "query = \"describe the structure of the heart in ten words\"\n",
        "#query = \"now describe the brain\"\n",
        "top_n=3\n",
        "new_chat=True\n",
        "\n",
        "\n",
        "\n",
        "#answer, messages = Aayush.ask_Gemma_2_9b_18GB(query, messages, pipe, new_chat)\n",
        "answer, messages = Aayush.ask_llama_31_8b_16GB(query, messages, pipe, new_chat)\n",
        "\n",
        "display(Markdown(answer))"
      ]
    },
    {
      "cell_type": "code",
      "execution_count": null,
      "metadata": {
        "colab": {
          "base_uri": "https://localhost:8080/"
        },
        "id": "fRCq3jdxyRtY",
        "outputId": "69bffb29-96a4-4dd4-95e3-f7a81a07ff23"
      },
      "outputs": [
        {
          "data": {
            "text/plain": [
              "[{'role': 'user',\n",
              "  'content': 'describe the structure of the heart in ten words'},\n",
              " {'role': 'assistant',\n",
              "  'content': 'The heart consists of four chambers and a muscular wall.'}]"
            ]
          },
          "execution_count": 17,
          "metadata": {},
          "output_type": "execute_result"
        }
      ],
      "source": [
        "messages"
      ]
    },
    {
      "cell_type": "markdown",
      "metadata": {
        "id": "MfQ1da51sdOr"
      },
      "source": [
        "# RAG"
      ]
    },
    {
      "cell_type": "code",
      "execution_count": null,
      "metadata": {
        "colab": {
          "base_uri": "https://localhost:8080/"
        },
        "id": "6LacwvpM1eVp",
        "outputId": "e31df85e-a179-47d1-8f1f-9586634f30b0"
      },
      "outputs": [
        {
          "data": {
            "text/plain": [
              "[{'role': 'user', 'content': 'Rainbow'},\n",
              " {'role': 'assistant',\n",
              "  'content': \"A rainbow is a beautiful natural phenomenon that occurs when sunlight passes through water droplets in the air. The colors of the rainbow always appear in the same order: red, orange, yellow, green, blue, indigo, and violet.\\n\\nHere are some interesting facts about rainbows:\\n\\n1. **Formation**: Rainbows are formed when sunlight enters a water droplet at an angle of at least 48 degrees. The sunlight is refracted, or bent, as it passes through the droplet, and this bending separates the light into its individual colors.\\n2. **Colors**: The colors of the rainbow are a result of the different wavelengths of light being refracted at slightly different angles. Red light has the longest wavelength, while violet light has the shortest wavelength.\\n3. **Double rainbows**: Sometimes, you can see a second, fainter rainbow outside the primary rainbow. This is called a double rainbow, and it's caused by light being reflected twice through the water droplet before it reaches your eyes.\\n4. **Rainbow shapes**: Rainbows can appear as a full circle, but we usually see only an arc of color because the Earth gets in the way. The shape of the rainbow is determined by the position of the sun and the water droplets.\\n5. **Myths and legends**: Rainbows have been a part of mythology and folklore for centuries. In many cultures, rainbows are seen as a symbol of hope, promise, and beauty.\\n\\nSome fun facts about rainbows:\\n\\n* The longest recorded rainbow lasted for 8 hours and 58 minutes.\\n* The largest rainbow ever recorded was 8.9 miles wide.\\n* Rainbows can occur at night, too, when the moon is full and there are water droplets in the air.\\n\\nI hope you enjoyed these facts about rainbows! Do you have a favorite rainbow-related memory or fact?\"}]"
            ]
          },
          "execution_count": 19,
          "metadata": {},
          "output_type": "execute_result"
        }
      ],
      "source": [
        "messages"
      ]
    },
    {
      "cell_type": "code",
      "execution_count": null,
      "metadata": {
        "colab": {
          "base_uri": "https://localhost:8080/",
          "height": 573
        },
        "id": "V7gEsbhYtjpc",
        "outputId": "79ff6a9c-e2e7-4a2e-f31c-49195a84718d"
      },
      "outputs": [
        {
          "data": {
            "text/markdown": [
              "A rainbow is a beautiful natural phenomenon that occurs when sunlight passes through water droplets in the air. The colors of the rainbow always appear in the same order: red, orange, yellow, green, blue, indigo, and violet.\n",
              "\n",
              "Here are some interesting facts about rainbows:\n",
              "\n",
              "1. **Formation**: Rainbows are formed when sunlight enters a water droplet at an angle of at least 48 degrees. The sunlight is refracted, or bent, as it passes through the droplet, and this bending separates the light into its individual colors.\n",
              "2. **Colors**: The colors of the rainbow are a result of the different wavelengths of light being refracted at slightly different angles. Red light has the longest wavelength, while violet light has the shortest wavelength.\n",
              "3. **Double rainbows**: Sometimes, you can see a second, fainter rainbow outside the primary rainbow. This is called a double rainbow, and it's caused by light being reflected twice through the water droplet before it reaches your eyes.\n",
              "4. **Rainbow shapes**: Rainbows can appear as a full circle, but we usually see only an arc of color because the Earth gets in the way. The shape of the rainbow is determined by the position of the sun and the water droplets.\n",
              "5. **Myths and legends**: Rainbows have been a part of mythology and folklore for centuries. In many cultures, rainbows are seen as a symbol of hope, promise, and beauty.\n",
              "\n",
              "Some fun facts about rainbows:\n",
              "\n",
              "* The longest recorded rainbow lasted for 8 hours and 58 minutes.\n",
              "* The largest rainbow ever recorded was 8.9 miles wide.\n",
              "* Rainbows can occur at night, too, when the moon is full and there are water droplets in the air.\n",
              "\n",
              "I hope you enjoyed these facts about rainbows! Do you have a favorite rainbow-related memory or fact?"
            ],
            "text/plain": [
              "<IPython.core.display.Markdown object>"
            ]
          },
          "metadata": {},
          "output_type": "display_data"
        }
      ],
      "source": [
        "display(Markdown(AI_response))"
      ]
    },
    {
      "cell_type": "markdown",
      "metadata": {
        "id": "_3h8d1wRzuEb"
      },
      "source": [
        "# Next steps\n",
        "\n",
        "DOING THE EVALUATIONS\n",
        "\n",
        "\n"
      ]
    },
    {
      "cell_type": "code",
      "execution_count": null,
      "metadata": {
        "id": "telaK61gZi6X",
        "outputId": "680d65f2-0a4a-486c-e106-0c99b3392bc8"
      },
      "outputs": [
        {
          "name": "stderr",
          "output_type": "stream",
          "text": [
            "  WARNING: The script datasets-cli.exe is installed in 'C:\\Users\\aiteam\\AppData\\Roaming\\Python\\Python312\\Scripts' which is not on PATH.\n",
            "  Consider adding this directory to PATH or, if you prefer to suppress this warning, use --no-warn-script-location.\n",
            "  WARNING: The script evaluate-cli.exe is installed in 'C:\\Users\\aiteam\\AppData\\Roaming\\Python\\Python312\\Scripts' which is not on PATH.\n",
            "  Consider adding this directory to PATH or, if you prefer to suppress this warning, use --no-warn-script-location.\n"
          ]
        },
        {
          "name": "stdout",
          "output_type": "stream",
          "text": [
            "Defaulting to user installation because normal site-packages is not writeable\n",
            "Collecting evaluate\n",
            "  Downloading evaluate-0.4.2-py3-none-any.whl.metadata (9.3 kB)\n",
            "Collecting datasets>=2.0.0 (from evaluate)\n",
            "  Downloading datasets-2.21.0-py3-none-any.whl.metadata (21 kB)\n",
            "Requirement already satisfied: numpy>=1.17 in c:\\programdata\\anaconda3\\envs\\google-colab\\lib\\site-packages (from evaluate) (1.26.4)\n",
            "Collecting dill (from evaluate)\n",
            "  Downloading dill-0.3.8-py3-none-any.whl.metadata (10 kB)\n",
            "Requirement already satisfied: pandas in c:\\users\\aiteam\\appdata\\roaming\\python\\python312\\site-packages (from evaluate) (2.2.2)\n",
            "Requirement already satisfied: requests>=2.19.0 in c:\\programdata\\anaconda3\\envs\\google-colab\\lib\\site-packages (from evaluate) (2.32.3)\n",
            "Requirement already satisfied: tqdm>=4.62.1 in c:\\programdata\\anaconda3\\envs\\google-colab\\lib\\site-packages (from evaluate) (4.66.5)\n",
            "Collecting xxhash (from evaluate)\n",
            "  Downloading xxhash-3.5.0-cp312-cp312-win_amd64.whl.metadata (13 kB)\n",
            "Collecting multiprocess (from evaluate)\n",
            "  Downloading multiprocess-0.70.16-py312-none-any.whl.metadata (7.2 kB)\n",
            "Requirement already satisfied: fsspec>=2021.05.0 in c:\\programdata\\anaconda3\\envs\\google-colab\\lib\\site-packages (from fsspec[http]>=2021.05.0->evaluate) (2024.6.1)\n",
            "Requirement already satisfied: huggingface-hub>=0.7.0 in c:\\users\\aiteam\\appdata\\roaming\\python\\python312\\site-packages (from evaluate) (0.24.6)\n",
            "Requirement already satisfied: packaging in c:\\programdata\\anaconda3\\envs\\google-colab\\lib\\site-packages (from evaluate) (24.1)\n",
            "Requirement already satisfied: filelock in c:\\programdata\\anaconda3\\envs\\google-colab\\lib\\site-packages (from datasets>=2.0.0->evaluate) (3.15.4)\n",
            "Collecting pyarrow>=15.0.0 (from datasets>=2.0.0->evaluate)\n",
            "  Downloading pyarrow-17.0.0-cp312-cp312-win_amd64.whl.metadata (3.4 kB)\n",
            "Collecting aiohttp (from datasets>=2.0.0->evaluate)\n",
            "  Downloading aiohttp-3.10.5-cp312-cp312-win_amd64.whl.metadata (7.8 kB)\n",
            "Requirement already satisfied: pyyaml>=5.1 in c:\\programdata\\anaconda3\\envs\\google-colab\\lib\\site-packages (from datasets>=2.0.0->evaluate) (6.0.1)\n",
            "Requirement already satisfied: typing-extensions>=3.7.4.3 in c:\\programdata\\anaconda3\\envs\\google-colab\\lib\\site-packages (from huggingface-hub>=0.7.0->evaluate) (4.11.0)\n",
            "Requirement already satisfied: charset-normalizer<4,>=2 in c:\\programdata\\anaconda3\\envs\\google-colab\\lib\\site-packages (from requests>=2.19.0->evaluate) (3.3.2)\n",
            "Requirement already satisfied: idna<4,>=2.5 in c:\\programdata\\anaconda3\\envs\\google-colab\\lib\\site-packages (from requests>=2.19.0->evaluate) (3.7)\n",
            "Requirement already satisfied: urllib3<3,>=1.21.1 in c:\\programdata\\anaconda3\\envs\\google-colab\\lib\\site-packages (from requests>=2.19.0->evaluate) (2.2.2)\n",
            "Requirement already satisfied: certifi>=2017.4.17 in c:\\programdata\\anaconda3\\envs\\google-colab\\lib\\site-packages (from requests>=2.19.0->evaluate) (2024.7.4)\n",
            "Requirement already satisfied: colorama in c:\\programdata\\anaconda3\\envs\\google-colab\\lib\\site-packages (from tqdm>=4.62.1->evaluate) (0.4.6)\n",
            "Requirement already satisfied: python-dateutil>=2.8.2 in c:\\programdata\\anaconda3\\envs\\google-colab\\lib\\site-packages (from pandas->evaluate) (2.9.0.post0)\n",
            "Requirement already satisfied: pytz>=2020.1 in c:\\programdata\\anaconda3\\envs\\google-colab\\lib\\site-packages (from pandas->evaluate) (2024.1)\n",
            "Requirement already satisfied: tzdata>=2022.7 in c:\\users\\aiteam\\appdata\\roaming\\python\\python312\\site-packages (from pandas->evaluate) (2024.1)\n",
            "Collecting aiohappyeyeballs>=2.3.0 (from aiohttp->datasets>=2.0.0->evaluate)\n",
            "  Downloading aiohappyeyeballs-2.4.0-py3-none-any.whl.metadata (5.9 kB)\n",
            "Collecting aiosignal>=1.1.2 (from aiohttp->datasets>=2.0.0->evaluate)\n",
            "  Downloading aiosignal-1.3.1-py3-none-any.whl.metadata (4.0 kB)\n",
            "Requirement already satisfied: attrs>=17.3.0 in c:\\programdata\\anaconda3\\envs\\google-colab\\lib\\site-packages (from aiohttp->datasets>=2.0.0->evaluate) (23.1.0)\n",
            "Collecting frozenlist>=1.1.1 (from aiohttp->datasets>=2.0.0->evaluate)\n",
            "  Downloading frozenlist-1.4.1-cp312-cp312-win_amd64.whl.metadata (12 kB)\n",
            "Collecting multidict<7.0,>=4.5 (from aiohttp->datasets>=2.0.0->evaluate)\n",
            "  Downloading multidict-6.0.5-cp312-cp312-win_amd64.whl.metadata (4.3 kB)\n",
            "Collecting yarl<2.0,>=1.0 (from aiohttp->datasets>=2.0.0->evaluate)\n",
            "  Downloading yarl-1.9.4-cp312-cp312-win_amd64.whl.metadata (32 kB)\n",
            "Requirement already satisfied: six>=1.5 in c:\\programdata\\anaconda3\\envs\\google-colab\\lib\\site-packages (from python-dateutil>=2.8.2->pandas->evaluate) (1.16.0)\n",
            "Downloading evaluate-0.4.2-py3-none-any.whl (84 kB)\n",
            "Downloading datasets-2.21.0-py3-none-any.whl (527 kB)\n",
            "   ---------------------------------------- 0.0/527.3 kB ? eta -:--:--\n",
            "   --------------------------------------- 527.3/527.3 kB 16.6 MB/s eta 0:00:00\n",
            "Downloading dill-0.3.8-py3-none-any.whl (116 kB)\n",
            "Downloading multiprocess-0.70.16-py312-none-any.whl (146 kB)\n",
            "Downloading xxhash-3.5.0-cp312-cp312-win_amd64.whl (30 kB)\n",
            "Downloading aiohttp-3.10.5-cp312-cp312-win_amd64.whl (377 kB)\n",
            "Downloading pyarrow-17.0.0-cp312-cp312-win_amd64.whl (25.1 MB)\n",
            "   ---------------------------------------- 0.0/25.1 MB ? eta -:--:--\n",
            "   - -------------------------------------- 1.0/25.1 MB 5.6 MB/s eta 0:00:05\n",
            "   --- ------------------------------------ 2.4/25.1 MB 6.4 MB/s eta 0:00:04\n",
            "   ------ --------------------------------- 4.2/25.1 MB 7.4 MB/s eta 0:00:03\n",
            "   ---------- ----------------------------- 6.3/25.1 MB 8.2 MB/s eta 0:00:03\n",
            "   ------------- -------------------------- 8.7/25.1 MB 8.9 MB/s eta 0:00:02\n",
            "   ----------------- ---------------------- 11.3/25.1 MB 9.8 MB/s eta 0:00:02\n",
            "   ---------------------- ----------------- 14.2/25.1 MB 10.5 MB/s eta 0:00:02\n",
            "   --------------------------- ------------ 17.3/25.1 MB 11.0 MB/s eta 0:00:01\n",
            "   --------------------------------- ------ 21.0/25.1 MB 11.8 MB/s eta 0:00:01\n",
            "   ---------------------------------------  24.9/25.1 MB 12.6 MB/s eta 0:00:01\n",
            "   ---------------------------------------- 25.1/25.1 MB 12.2 MB/s eta 0:00:00\n",
            "Downloading aiohappyeyeballs-2.4.0-py3-none-any.whl (12 kB)\n",
            "Downloading aiosignal-1.3.1-py3-none-any.whl (7.6 kB)\n",
            "Downloading frozenlist-1.4.1-cp312-cp312-win_amd64.whl (50 kB)\n",
            "Downloading multidict-6.0.5-cp312-cp312-win_amd64.whl (27 kB)\n",
            "Downloading yarl-1.9.4-cp312-cp312-win_amd64.whl (76 kB)\n",
            "Installing collected packages: xxhash, pyarrow, multidict, frozenlist, dill, aiohappyeyeballs, yarl, multiprocess, aiosignal, aiohttp, datasets, evaluate\n",
            "Successfully installed aiohappyeyeballs-2.4.0 aiohttp-3.10.5 aiosignal-1.3.1 datasets-2.21.0 dill-0.3.8 evaluate-0.4.2 frozenlist-1.4.1 multidict-6.0.5 multiprocess-0.70.16 pyarrow-17.0.0 xxhash-3.5.0 yarl-1.9.4\n"
          ]
        }
      ],
      "source": [
        "!pip install evaluate\n",
        "import evaluate"
      ]
    },
    {
      "cell_type": "code",
      "execution_count": null,
      "metadata": {
        "id": "7AoQg0P4Zi6X",
        "outputId": "55bacec5-da4c-45c0-8dbc-cad4592f6eaa"
      },
      "outputs": [
        {
          "name": "stdout",
          "output_type": "stream",
          "text": [
            "Defaulting to user installation because normal site-packages is not writeable\n",
            "Collecting openai\n",
            "  Downloading openai-1.42.0-py3-none-any.whl.metadata (22 kB)\n",
            "Requirement already satisfied: anyio<5,>=3.5.0 in c:\\programdata\\anaconda3\\envs\\google-colab\\lib\\site-packages (from openai) (4.2.0)\n",
            "Collecting distro<2,>=1.7.0 (from openai)\n",
            "  Downloading distro-1.9.0-py3-none-any.whl.metadata (6.8 kB)\n",
            "Collecting httpx<1,>=0.23.0 (from openai)\n",
            "  Downloading httpx-0.27.0-py3-none-any.whl.metadata (7.2 kB)\n",
            "Collecting jiter<1,>=0.4.0 (from openai)\n",
            "  Downloading jiter-0.5.0-cp312-none-win_amd64.whl.metadata (3.7 kB)\n",
            "Collecting pydantic<3,>=1.9.0 (from openai)\n",
            "  Downloading pydantic-2.8.2-py3-none-any.whl.metadata (125 kB)\n",
            "Requirement already satisfied: sniffio in c:\\programdata\\anaconda3\\envs\\google-colab\\lib\\site-packages (from openai) (1.3.0)\n",
            "Requirement already satisfied: tqdm>4 in c:\\programdata\\anaconda3\\envs\\google-colab\\lib\\site-packages (from openai) (4.66.5)\n",
            "Requirement already satisfied: typing-extensions<5,>=4.11 in c:\\programdata\\anaconda3\\envs\\google-colab\\lib\\site-packages (from openai) (4.11.0)\n",
            "Requirement already satisfied: idna>=2.8 in c:\\programdata\\anaconda3\\envs\\google-colab\\lib\\site-packages (from anyio<5,>=3.5.0->openai) (3.7)\n",
            "Requirement already satisfied: certifi in c:\\programdata\\anaconda3\\envs\\google-colab\\lib\\site-packages (from httpx<1,>=0.23.0->openai) (2024.7.4)\n",
            "Collecting httpcore==1.* (from httpx<1,>=0.23.0->openai)\n",
            "  Downloading httpcore-1.0.5-py3-none-any.whl.metadata (20 kB)\n",
            "Collecting h11<0.15,>=0.13 (from httpcore==1.*->httpx<1,>=0.23.0->openai)\n",
            "  Downloading h11-0.14.0-py3-none-any.whl.metadata (8.2 kB)\n",
            "Collecting annotated-types>=0.4.0 (from pydantic<3,>=1.9.0->openai)\n",
            "  Downloading annotated_types-0.7.0-py3-none-any.whl.metadata (15 kB)\n",
            "Collecting pydantic-core==2.20.1 (from pydantic<3,>=1.9.0->openai)\n",
            "  Downloading pydantic_core-2.20.1-cp312-none-win_amd64.whl.metadata (6.7 kB)\n",
            "Requirement already satisfied: colorama in c:\\programdata\\anaconda3\\envs\\google-colab\\lib\\site-packages (from tqdm>4->openai) (0.4.6)\n",
            "Downloading openai-1.42.0-py3-none-any.whl (362 kB)\n",
            "Downloading distro-1.9.0-py3-none-any.whl (20 kB)\n",
            "Downloading httpx-0.27.0-py3-none-any.whl (75 kB)\n",
            "Downloading httpcore-1.0.5-py3-none-any.whl (77 kB)\n",
            "Downloading jiter-0.5.0-cp312-none-win_amd64.whl (189 kB)\n",
            "Downloading pydantic-2.8.2-py3-none-any.whl (423 kB)\n",
            "Downloading pydantic_core-2.20.1-cp312-none-win_amd64.whl (1.9 MB)\n",
            "   ---------------------------------------- 0.0/1.9 MB ? eta -:--:--\n",
            "   ---------------------------------------- 1.9/1.9 MB 20.7 MB/s eta 0:00:00\n",
            "Downloading annotated_types-0.7.0-py3-none-any.whl (13 kB)\n",
            "Downloading h11-0.14.0-py3-none-any.whl (58 kB)\n",
            "Installing collected packages: pydantic-core, jiter, h11, distro, annotated-types, pydantic, httpcore, httpx, openai\n",
            "Successfully installed annotated-types-0.7.0 distro-1.9.0 h11-0.14.0 httpcore-1.0.5 httpx-0.27.0 jiter-0.5.0 openai-1.42.0 pydantic-2.8.2 pydantic-core-2.20.1\n"
          ]
        },
        {
          "name": "stderr",
          "output_type": "stream",
          "text": [
            "  WARNING: The script distro.exe is installed in 'C:\\Users\\aiteam\\AppData\\Roaming\\Python\\Python312\\Scripts' which is not on PATH.\n",
            "  Consider adding this directory to PATH or, if you prefer to suppress this warning, use --no-warn-script-location.\n",
            "  WARNING: The script httpx.exe is installed in 'C:\\Users\\aiteam\\AppData\\Roaming\\Python\\Python312\\Scripts' which is not on PATH.\n",
            "  Consider adding this directory to PATH or, if you prefer to suppress this warning, use --no-warn-script-location.\n",
            "  WARNING: The script openai.exe is installed in 'C:\\Users\\aiteam\\AppData\\Roaming\\Python\\Python312\\Scripts' which is not on PATH.\n",
            "  Consider adding this directory to PATH or, if you prefer to suppress this warning, use --no-warn-script-location.\n"
          ]
        }
      ],
      "source": [
        "!pip install openai"
      ]
    },
    {
      "cell_type": "code",
      "execution_count": null,
      "metadata": {
        "id": "SGFurHZ_Zi6X",
        "outputId": "7761f0c6-44d2-459a-d402-520c7d17c54e"
      },
      "outputs": [
        {
          "name": "stdout",
          "output_type": "stream",
          "text": [
            "Defaulting to user installation because normal site-packages is not writeable\n",
            "Requirement already satisfied: nltk in c:\\users\\aiteam\\appdata\\roaming\\python\\python312\\site-packages (3.9.1)\n",
            "Requirement already satisfied: click in c:\\users\\aiteam\\appdata\\roaming\\python\\python312\\site-packages (from nltk) (8.1.7)\n",
            "Requirement already satisfied: joblib in c:\\users\\aiteam\\appdata\\roaming\\python\\python312\\site-packages (from nltk) (1.4.2)\n",
            "Requirement already satisfied: regex>=2021.8.3 in c:\\programdata\\anaconda3\\envs\\google-colab\\lib\\site-packages (from nltk) (2024.7.24)\n",
            "Requirement already satisfied: tqdm in c:\\programdata\\anaconda3\\envs\\google-colab\\lib\\site-packages (from nltk) (4.66.5)\n",
            "Requirement already satisfied: colorama in c:\\programdata\\anaconda3\\envs\\google-colab\\lib\\site-packages (from click->nltk) (0.4.6)\n",
            "Defaulting to user installation because normal site-packages is not writeable\n",
            "Requirement already satisfied: rouge_score in c:\\users\\aiteam\\appdata\\roaming\\python\\python312\\site-packages (0.1.2)\n",
            "Requirement already satisfied: absl-py in c:\\users\\aiteam\\appdata\\roaming\\python\\python312\\site-packages (from rouge_score) (2.1.0)\n",
            "Requirement already satisfied: nltk in c:\\users\\aiteam\\appdata\\roaming\\python\\python312\\site-packages (from rouge_score) (3.9.1)\n",
            "Requirement already satisfied: numpy in c:\\programdata\\anaconda3\\envs\\google-colab\\lib\\site-packages (from rouge_score) (1.26.4)\n",
            "Requirement already satisfied: six>=1.14.0 in c:\\programdata\\anaconda3\\envs\\google-colab\\lib\\site-packages (from rouge_score) (1.16.0)\n",
            "Requirement already satisfied: click in c:\\users\\aiteam\\appdata\\roaming\\python\\python312\\site-packages (from nltk->rouge_score) (8.1.7)\n",
            "Requirement already satisfied: joblib in c:\\users\\aiteam\\appdata\\roaming\\python\\python312\\site-packages (from nltk->rouge_score) (1.4.2)\n",
            "Requirement already satisfied: regex>=2021.8.3 in c:\\programdata\\anaconda3\\envs\\google-colab\\lib\\site-packages (from nltk->rouge_score) (2024.7.24)\n",
            "Requirement already satisfied: tqdm in c:\\programdata\\anaconda3\\envs\\google-colab\\lib\\site-packages (from nltk->rouge_score) (4.66.5)\n",
            "Requirement already satisfied: colorama in c:\\programdata\\anaconda3\\envs\\google-colab\\lib\\site-packages (from click->nltk->rouge_score) (0.4.6)\n",
            "Defaulting to user installation because normal site-packages is not writeable\n"
          ]
        },
        {
          "name": "stderr",
          "output_type": "stream",
          "text": [
            "ERROR: Could not find a version that satisfies the requirement absl (from versions: none)\n",
            "ERROR: No matching distribution found for absl\n"
          ]
        },
        {
          "name": "stdout",
          "output_type": "stream",
          "text": [
            "Defaulting to user installation because normal site-packages is not writeable\n",
            "Collecting bert_score\n",
            "  Downloading bert_score-0.3.13-py3-none-any.whl.metadata (15 kB)\n",
            "Requirement already satisfied: torch>=1.0.0 in c:\\users\\aiteam\\appdata\\roaming\\python\\python312\\site-packages (from bert_score) (2.4.0+cu118)\n",
            "Requirement already satisfied: pandas>=1.0.1 in c:\\users\\aiteam\\appdata\\roaming\\python\\python312\\site-packages (from bert_score) (2.2.2)\n",
            "Requirement already satisfied: transformers>=3.0.0 in c:\\users\\aiteam\\appdata\\roaming\\python\\python312\\site-packages (from bert_score) (4.44.0)\n",
            "Requirement already satisfied: numpy in c:\\programdata\\anaconda3\\envs\\google-colab\\lib\\site-packages (from bert_score) (1.26.4)\n",
            "Requirement already satisfied: requests in c:\\programdata\\anaconda3\\envs\\google-colab\\lib\\site-packages (from bert_score) (2.32.3)\n",
            "Requirement already satisfied: tqdm>=4.31.1 in c:\\programdata\\anaconda3\\envs\\google-colab\\lib\\site-packages (from bert_score) (4.66.5)\n",
            "Collecting matplotlib (from bert_score)\n",
            "  Downloading matplotlib-3.9.2-cp312-cp312-win_amd64.whl.metadata (11 kB)\n",
            "Requirement already satisfied: packaging>=20.9 in c:\\programdata\\anaconda3\\envs\\google-colab\\lib\\site-packages (from bert_score) (24.1)\n",
            "Requirement already satisfied: python-dateutil>=2.8.2 in c:\\programdata\\anaconda3\\envs\\google-colab\\lib\\site-packages (from pandas>=1.0.1->bert_score) (2.9.0.post0)\n",
            "Requirement already satisfied: pytz>=2020.1 in c:\\programdata\\anaconda3\\envs\\google-colab\\lib\\site-packages (from pandas>=1.0.1->bert_score) (2024.1)\n",
            "Requirement already satisfied: tzdata>=2022.7 in c:\\users\\aiteam\\appdata\\roaming\\python\\python312\\site-packages (from pandas>=1.0.1->bert_score) (2024.1)\n",
            "Requirement already satisfied: filelock in c:\\programdata\\anaconda3\\envs\\google-colab\\lib\\site-packages (from torch>=1.0.0->bert_score) (3.15.4)\n",
            "Requirement already satisfied: typing-extensions>=4.8.0 in c:\\programdata\\anaconda3\\envs\\google-colab\\lib\\site-packages (from torch>=1.0.0->bert_score) (4.11.0)\n",
            "Requirement already satisfied: sympy in c:\\programdata\\anaconda3\\envs\\google-colab\\lib\\site-packages (from torch>=1.0.0->bert_score) (1.13.2)\n",
            "Requirement already satisfied: networkx in c:\\programdata\\anaconda3\\envs\\google-colab\\lib\\site-packages (from torch>=1.0.0->bert_score) (3.3)\n",
            "Requirement already satisfied: jinja2 in c:\\programdata\\anaconda3\\envs\\google-colab\\lib\\site-packages (from torch>=1.0.0->bert_score) (3.1.4)\n",
            "Requirement already satisfied: fsspec in c:\\programdata\\anaconda3\\envs\\google-colab\\lib\\site-packages (from torch>=1.0.0->bert_score) (2024.6.1)\n",
            "Requirement already satisfied: setuptools in c:\\programdata\\anaconda3\\envs\\google-colab\\lib\\site-packages (from torch>=1.0.0->bert_score) (72.1.0)\n",
            "Requirement already satisfied: colorama in c:\\programdata\\anaconda3\\envs\\google-colab\\lib\\site-packages (from tqdm>=4.31.1->bert_score) (0.4.6)\n",
            "Requirement already satisfied: huggingface-hub<1.0,>=0.23.2 in c:\\users\\aiteam\\appdata\\roaming\\python\\python312\\site-packages (from transformers>=3.0.0->bert_score) (0.24.6)\n",
            "Requirement already satisfied: pyyaml>=5.1 in c:\\programdata\\anaconda3\\envs\\google-colab\\lib\\site-packages (from transformers>=3.0.0->bert_score) (6.0.1)\n",
            "Requirement already satisfied: regex!=2019.12.17 in c:\\programdata\\anaconda3\\envs\\google-colab\\lib\\site-packages (from transformers>=3.0.0->bert_score) (2024.7.24)\n",
            "Requirement already satisfied: safetensors>=0.4.1 in c:\\users\\aiteam\\appdata\\roaming\\python\\python312\\site-packages (from transformers>=3.0.0->bert_score) (0.4.4)\n",
            "Requirement already satisfied: tokenizers<0.20,>=0.19 in c:\\users\\aiteam\\appdata\\roaming\\python\\python312\\site-packages (from transformers>=3.0.0->bert_score) (0.19.1)\n",
            "Collecting contourpy>=1.0.1 (from matplotlib->bert_score)\n",
            "  Downloading contourpy-1.2.1-cp312-cp312-win_amd64.whl.metadata (5.8 kB)\n",
            "Collecting cycler>=0.10 (from matplotlib->bert_score)\n",
            "  Downloading cycler-0.12.1-py3-none-any.whl.metadata (3.8 kB)\n",
            "Collecting fonttools>=4.22.0 (from matplotlib->bert_score)\n",
            "  Downloading fonttools-4.53.1-cp312-cp312-win_amd64.whl.metadata (165 kB)\n",
            "Collecting kiwisolver>=1.3.1 (from matplotlib->bert_score)\n",
            "  Downloading kiwisolver-1.4.5-cp312-cp312-win_amd64.whl.metadata (6.5 kB)\n",
            "Requirement already satisfied: pillow>=8 in c:\\users\\aiteam\\appdata\\roaming\\python\\python312\\site-packages (from matplotlib->bert_score) (10.4.0)\n",
            "Collecting pyparsing>=2.3.1 (from matplotlib->bert_score)\n",
            "  Downloading pyparsing-3.1.2-py3-none-any.whl.metadata (5.1 kB)\n",
            "Requirement already satisfied: charset-normalizer<4,>=2 in c:\\programdata\\anaconda3\\envs\\google-colab\\lib\\site-packages (from requests->bert_score) (3.3.2)\n",
            "Requirement already satisfied: idna<4,>=2.5 in c:\\programdata\\anaconda3\\envs\\google-colab\\lib\\site-packages (from requests->bert_score) (3.7)\n",
            "Requirement already satisfied: urllib3<3,>=1.21.1 in c:\\programdata\\anaconda3\\envs\\google-colab\\lib\\site-packages (from requests->bert_score) (2.2.2)\n",
            "Requirement already satisfied: certifi>=2017.4.17 in c:\\programdata\\anaconda3\\envs\\google-colab\\lib\\site-packages (from requests->bert_score) (2024.7.4)\n",
            "Requirement already satisfied: six>=1.5 in c:\\programdata\\anaconda3\\envs\\google-colab\\lib\\site-packages (from python-dateutil>=2.8.2->pandas>=1.0.1->bert_score) (1.16.0)\n",
            "Requirement already satisfied: MarkupSafe>=2.0 in c:\\programdata\\anaconda3\\envs\\google-colab\\lib\\site-packages (from jinja2->torch>=1.0.0->bert_score) (2.1.3)\n",
            "Requirement already satisfied: mpmath<1.4,>=1.1.0 in c:\\programdata\\anaconda3\\envs\\google-colab\\lib\\site-packages (from sympy->torch>=1.0.0->bert_score) (1.3.0)\n",
            "Downloading bert_score-0.3.13-py3-none-any.whl (61 kB)\n",
            "Downloading matplotlib-3.9.2-cp312-cp312-win_amd64.whl (7.8 MB)\n",
            "   ---------------------------------------- 0.0/7.8 MB ? eta -:--:--\n",
            "   ------------------------ --------------- 4.7/7.8 MB 25.9 MB/s eta 0:00:01\n",
            "   ---------------------------------------- 7.8/7.8 MB 25.5 MB/s eta 0:00:00\n",
            "Downloading contourpy-1.2.1-cp312-cp312-win_amd64.whl (189 kB)\n",
            "Downloading cycler-0.12.1-py3-none-any.whl (8.3 kB)\n",
            "Downloading fonttools-4.53.1-cp312-cp312-win_amd64.whl (2.2 MB)\n",
            "   ---------------------------------------- 0.0/2.2 MB ? eta -:--:--\n",
            "   ---------------------------------------- 2.2/2.2 MB 20.5 MB/s eta 0:00:00\n",
            "Downloading kiwisolver-1.4.5-cp312-cp312-win_amd64.whl (56 kB)\n",
            "Downloading pyparsing-3.1.2-py3-none-any.whl (103 kB)\n",
            "Installing collected packages: pyparsing, kiwisolver, fonttools, cycler, contourpy, matplotlib, bert_score\n",
            "Successfully installed bert_score-0.3.13 contourpy-1.2.1 cycler-0.12.1 fonttools-4.53.1 kiwisolver-1.4.5 matplotlib-3.9.2 pyparsing-3.1.2\n"
          ]
        },
        {
          "name": "stderr",
          "output_type": "stream",
          "text": [
            "  WARNING: The scripts fonttools.exe, pyftmerge.exe, pyftsubset.exe and ttx.exe are installed in 'C:\\Users\\aiteam\\AppData\\Roaming\\Python\\Python312\\Scripts' which is not on PATH.\n",
            "  Consider adding this directory to PATH or, if you prefer to suppress this warning, use --no-warn-script-location.\n",
            "  WARNING: The scripts bert-score-show.exe and bert-score.exe are installed in 'C:\\Users\\aiteam\\AppData\\Roaming\\Python\\Python312\\Scripts' which is not on PATH.\n",
            "  Consider adding this directory to PATH or, if you prefer to suppress this warning, use --no-warn-script-location.\n"
          ]
        }
      ],
      "source": [
        "!pip install nltk\n",
        "!pip install rouge_score\n",
        "!pip install absl\n",
        "!pip install bert_score"
      ]
    },
    {
      "cell_type": "code",
      "execution_count": null,
      "metadata": {
        "id": "7DdJCbnUZi6Y"
      },
      "outputs": [],
      "source": []
    }
  ],
  "metadata": {
    "accelerator": "GPU",
    "colab": {
      "gpuType": "L4",
      "machine_shape": "hm",
      "provenance": []
    },
    "kernelspec": {
      "display_name": "Python 3",
      "name": "python3"
    },
    "language_info": {
      "codemirror_mode": {
        "name": "ipython",
        "version": 3
      },
      "file_extension": ".py",
      "mimetype": "text/x-python",
      "name": "python",
      "nbconvert_exporter": "python",
      "pygments_lexer": "ipython3",
      "version": "3.12.4"
    },
    "widgets": {
      "application/vnd.jupyter.widget-state+json": {
        "19a1876d85e74b7ebe9beb05061c428c": {
          "model_module": "@jupyter-widgets/base",
          "model_module_version": "1.2.0",
          "model_name": "LayoutModel",
          "state": {
            "_model_module": "@jupyter-widgets/base",
            "_model_module_version": "1.2.0",
            "_model_name": "LayoutModel",
            "_view_count": null,
            "_view_module": "@jupyter-widgets/base",
            "_view_module_version": "1.2.0",
            "_view_name": "LayoutView",
            "align_content": null,
            "align_items": null,
            "align_self": null,
            "border": null,
            "bottom": null,
            "display": null,
            "flex": null,
            "flex_flow": null,
            "grid_area": null,
            "grid_auto_columns": null,
            "grid_auto_flow": null,
            "grid_auto_rows": null,
            "grid_column": null,
            "grid_gap": null,
            "grid_row": null,
            "grid_template_areas": null,
            "grid_template_columns": null,
            "grid_template_rows": null,
            "height": null,
            "justify_content": null,
            "justify_items": null,
            "left": null,
            "margin": null,
            "max_height": null,
            "max_width": null,
            "min_height": null,
            "min_width": null,
            "object_fit": null,
            "object_position": null,
            "order": null,
            "overflow": null,
            "overflow_x": null,
            "overflow_y": null,
            "padding": null,
            "right": null,
            "top": null,
            "visibility": null,
            "width": null
          }
        },
        "1afe38a07c81410ca7bbe9dd5415806e": {
          "model_module": "@jupyter-widgets/controls",
          "model_module_version": "1.5.0",
          "model_name": "DescriptionStyleModel",
          "state": {
            "_model_module": "@jupyter-widgets/controls",
            "_model_module_version": "1.5.0",
            "_model_name": "DescriptionStyleModel",
            "_view_count": null,
            "_view_module": "@jupyter-widgets/base",
            "_view_module_version": "1.2.0",
            "_view_name": "StyleView",
            "description_width": ""
          }
        },
        "38f1023f280e42f2ad9187a13876cc79": {
          "model_module": "@jupyter-widgets/controls",
          "model_module_version": "1.5.0",
          "model_name": "HTMLModel",
          "state": {
            "_dom_classes": [],
            "_model_module": "@jupyter-widgets/controls",
            "_model_module_version": "1.5.0",
            "_model_name": "HTMLModel",
            "_view_count": null,
            "_view_module": "@jupyter-widgets/controls",
            "_view_module_version": "1.5.0",
            "_view_name": "HTMLView",
            "description": "",
            "description_tooltip": null,
            "layout": "IPY_MODEL_43e6f8bb93914b9594dcd6d0fad6c1d3",
            "placeholder": "​",
            "style": "IPY_MODEL_1afe38a07c81410ca7bbe9dd5415806e",
            "value": " 4/4 [00:02&lt;00:00,  2.29it/s]"
          }
        },
        "43e6f8bb93914b9594dcd6d0fad6c1d3": {
          "model_module": "@jupyter-widgets/base",
          "model_module_version": "1.2.0",
          "model_name": "LayoutModel",
          "state": {
            "_model_module": "@jupyter-widgets/base",
            "_model_module_version": "1.2.0",
            "_model_name": "LayoutModel",
            "_view_count": null,
            "_view_module": "@jupyter-widgets/base",
            "_view_module_version": "1.2.0",
            "_view_name": "LayoutView",
            "align_content": null,
            "align_items": null,
            "align_self": null,
            "border": null,
            "bottom": null,
            "display": null,
            "flex": null,
            "flex_flow": null,
            "grid_area": null,
            "grid_auto_columns": null,
            "grid_auto_flow": null,
            "grid_auto_rows": null,
            "grid_column": null,
            "grid_gap": null,
            "grid_row": null,
            "grid_template_areas": null,
            "grid_template_columns": null,
            "grid_template_rows": null,
            "height": null,
            "justify_content": null,
            "justify_items": null,
            "left": null,
            "margin": null,
            "max_height": null,
            "max_width": null,
            "min_height": null,
            "min_width": null,
            "object_fit": null,
            "object_position": null,
            "order": null,
            "overflow": null,
            "overflow_x": null,
            "overflow_y": null,
            "padding": null,
            "right": null,
            "top": null,
            "visibility": null,
            "width": null
          }
        },
        "44030998f465423aae1f49a7df4198ea": {
          "model_module": "@jupyter-widgets/controls",
          "model_module_version": "1.5.0",
          "model_name": "DescriptionStyleModel",
          "state": {
            "_model_module": "@jupyter-widgets/controls",
            "_model_module_version": "1.5.0",
            "_model_name": "DescriptionStyleModel",
            "_view_count": null,
            "_view_module": "@jupyter-widgets/base",
            "_view_module_version": "1.2.0",
            "_view_name": "StyleView",
            "description_width": ""
          }
        },
        "472388aa05c34f00bedac5b6c288546f": {
          "model_module": "@jupyter-widgets/base",
          "model_module_version": "1.2.0",
          "model_name": "LayoutModel",
          "state": {
            "_model_module": "@jupyter-widgets/base",
            "_model_module_version": "1.2.0",
            "_model_name": "LayoutModel",
            "_view_count": null,
            "_view_module": "@jupyter-widgets/base",
            "_view_module_version": "1.2.0",
            "_view_name": "LayoutView",
            "align_content": null,
            "align_items": null,
            "align_self": null,
            "border": null,
            "bottom": null,
            "display": null,
            "flex": null,
            "flex_flow": null,
            "grid_area": null,
            "grid_auto_columns": null,
            "grid_auto_flow": null,
            "grid_auto_rows": null,
            "grid_column": null,
            "grid_gap": null,
            "grid_row": null,
            "grid_template_areas": null,
            "grid_template_columns": null,
            "grid_template_rows": null,
            "height": null,
            "justify_content": null,
            "justify_items": null,
            "left": null,
            "margin": null,
            "max_height": null,
            "max_width": null,
            "min_height": null,
            "min_width": null,
            "object_fit": null,
            "object_position": null,
            "order": null,
            "overflow": null,
            "overflow_x": null,
            "overflow_y": null,
            "padding": null,
            "right": null,
            "top": null,
            "visibility": null,
            "width": null
          }
        },
        "498dd4a92d8c45f29033f816328be037": {
          "model_module": "@jupyter-widgets/controls",
          "model_module_version": "1.5.0",
          "model_name": "HTMLModel",
          "state": {
            "_dom_classes": [],
            "_model_module": "@jupyter-widgets/controls",
            "_model_module_version": "1.5.0",
            "_model_name": "HTMLModel",
            "_view_count": null,
            "_view_module": "@jupyter-widgets/controls",
            "_view_module_version": "1.5.0",
            "_view_name": "HTMLView",
            "description": "",
            "description_tooltip": null,
            "layout": "IPY_MODEL_19a1876d85e74b7ebe9beb05061c428c",
            "placeholder": "​",
            "style": "IPY_MODEL_44030998f465423aae1f49a7df4198ea",
            "value": "Loading checkpoint shards: 100%"
          }
        },
        "5672f3f6e16f4296b14e009909849f97": {
          "model_module": "@jupyter-widgets/base",
          "model_module_version": "1.2.0",
          "model_name": "LayoutModel",
          "state": {
            "_model_module": "@jupyter-widgets/base",
            "_model_module_version": "1.2.0",
            "_model_name": "LayoutModel",
            "_view_count": null,
            "_view_module": "@jupyter-widgets/base",
            "_view_module_version": "1.2.0",
            "_view_name": "LayoutView",
            "align_content": null,
            "align_items": null,
            "align_self": null,
            "border": null,
            "bottom": null,
            "display": null,
            "flex": null,
            "flex_flow": null,
            "grid_area": null,
            "grid_auto_columns": null,
            "grid_auto_flow": null,
            "grid_auto_rows": null,
            "grid_column": null,
            "grid_gap": null,
            "grid_row": null,
            "grid_template_areas": null,
            "grid_template_columns": null,
            "grid_template_rows": null,
            "height": null,
            "justify_content": null,
            "justify_items": null,
            "left": null,
            "margin": null,
            "max_height": null,
            "max_width": null,
            "min_height": null,
            "min_width": null,
            "object_fit": null,
            "object_position": null,
            "order": null,
            "overflow": null,
            "overflow_x": null,
            "overflow_y": null,
            "padding": null,
            "right": null,
            "top": null,
            "visibility": null,
            "width": null
          }
        },
        "6d4ed351be1b43eca05dd0db518fda5c": {
          "model_module": "@jupyter-widgets/controls",
          "model_module_version": "1.5.0",
          "model_name": "HBoxModel",
          "state": {
            "_dom_classes": [],
            "_model_module": "@jupyter-widgets/controls",
            "_model_module_version": "1.5.0",
            "_model_name": "HBoxModel",
            "_view_count": null,
            "_view_module": "@jupyter-widgets/controls",
            "_view_module_version": "1.5.0",
            "_view_name": "HBoxView",
            "box_style": "",
            "children": [
              "IPY_MODEL_498dd4a92d8c45f29033f816328be037",
              "IPY_MODEL_ee854bec7c77488daa1fa6ddcbcb1fa1",
              "IPY_MODEL_38f1023f280e42f2ad9187a13876cc79"
            ],
            "layout": "IPY_MODEL_5672f3f6e16f4296b14e009909849f97"
          }
        },
        "7893eed3a9d14482bcddbc31237243b2": {
          "model_module": "@jupyter-widgets/controls",
          "model_module_version": "1.5.0",
          "model_name": "ProgressStyleModel",
          "state": {
            "_model_module": "@jupyter-widgets/controls",
            "_model_module_version": "1.5.0",
            "_model_name": "ProgressStyleModel",
            "_view_count": null,
            "_view_module": "@jupyter-widgets/base",
            "_view_module_version": "1.2.0",
            "_view_name": "StyleView",
            "bar_color": null,
            "description_width": ""
          }
        },
        "ee854bec7c77488daa1fa6ddcbcb1fa1": {
          "model_module": "@jupyter-widgets/controls",
          "model_module_version": "1.5.0",
          "model_name": "FloatProgressModel",
          "state": {
            "_dom_classes": [],
            "_model_module": "@jupyter-widgets/controls",
            "_model_module_version": "1.5.0",
            "_model_name": "FloatProgressModel",
            "_view_count": null,
            "_view_module": "@jupyter-widgets/controls",
            "_view_module_version": "1.5.0",
            "_view_name": "ProgressView",
            "bar_style": "success",
            "description": "",
            "description_tooltip": null,
            "layout": "IPY_MODEL_472388aa05c34f00bedac5b6c288546f",
            "max": 4,
            "min": 0,
            "orientation": "horizontal",
            "style": "IPY_MODEL_7893eed3a9d14482bcddbc31237243b2",
            "value": 4
          }
        }
      }
    }
  },
  "nbformat": 4,
  "nbformat_minor": 0
}